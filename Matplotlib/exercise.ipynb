{
 "cells": [
  {
   "cell_type": "code",
   "execution_count": 1,
   "id": "d05ceb24",
   "metadata": {},
   "outputs": [],
   "source": [
    "#Ejercicio\n",
    "import matplotlib.pyplot as plt\n",
    "import numpy as np"
   ]
  },
  {
   "cell_type": "code",
   "execution_count": 2,
   "id": "8f7b47c6",
   "metadata": {},
   "outputs": [],
   "source": [
    "x = np.linspace(0,20,10)"
   ]
  },
  {
   "cell_type": "code",
   "execution_count": 3,
   "id": "05ccb32e",
   "metadata": {},
   "outputs": [
    {
     "data": {
      "text/plain": [
       "array([ 0.        ,  2.22222222,  4.44444444,  6.66666667,  8.88888889,\n",
       "       11.11111111, 13.33333333, 15.55555556, 17.77777778, 20.        ])"
      ]
     },
     "execution_count": 3,
     "metadata": {},
     "output_type": "execute_result"
    }
   ],
   "source": [
    "x"
   ]
  },
  {
   "cell_type": "code",
   "execution_count": 4,
   "id": "d8e613d3",
   "metadata": {},
   "outputs": [],
   "source": [
    "y = (x**2) + 5"
   ]
  },
  {
   "cell_type": "code",
   "execution_count": 5,
   "id": "5cde3b32",
   "metadata": {},
   "outputs": [
    {
     "data": {
      "text/plain": [
       "array([  5.        ,   9.9382716 ,  24.75308642,  49.44444444,\n",
       "        84.01234568, 128.45679012, 182.77777778, 246.97530864,\n",
       "       321.04938272, 405.        ])"
      ]
     },
     "execution_count": 5,
     "metadata": {},
     "output_type": "execute_result"
    }
   ],
   "source": [
    "y"
   ]
  },
  {
   "cell_type": "code",
   "execution_count": 10,
   "id": "3218c57a",
   "metadata": {},
   "outputs": [
    {
     "data": {
      "text/plain": [
       "[<matplotlib.lines.Line2D at 0x229a237c730>]"
      ]
     },
     "execution_count": 10,
     "metadata": {},
     "output_type": "execute_result"
    },
    {
     "data": {
      "image/png": "[encoded data removed]",
      "text/plain": [
       "<Figure size 432x288 with 1 Axes>"
      ]
     },
     "metadata": {
      "needs_background": "light"
     },
     "output_type": "display_data"
    }
   ],
   "source": [
    "figure = plt.figure()\n",
    "graphic = figure.add_axes([0,0,1,1])\n",
    "graphic.plot(x,y,\"red\", linewidth = 5, linestyle=\":\")"
   ]
  },
  {
   "cell_type": "code",
   "execution_count": null,
   "id": "b73f42d5",
   "metadata": {},
   "outputs": [],
   "source": []
  }
 ],
 "metadata": {
  "kernelspec": {
   "display_name": "Python 3 (ipykernel)",
   "language": "python",
   "name": "python3"
  },
  "language_info": {
   "codemirror_mode": {
    "name": "ipython",
    "version": 3
   },
   "file_extension": ".py",
   "mimetype": "text/x-python",
   "name": "python",
   "nbconvert_exporter": "python",
   "pygments_lexer": "ipython3",
   "version": "3.9.12"
  }
 },
 "nbformat": 4,
 "nbformat_minor": 5
}
