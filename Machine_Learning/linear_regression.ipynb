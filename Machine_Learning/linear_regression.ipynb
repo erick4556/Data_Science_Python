{
 "cells": [
  {
   "cell_type": "markdown",
   "id": "4e40f8eb",
   "metadata": {},
   "source": [
    "Regresión Lineal"
   ]
  },
  {
   "cell_type": "code",
   "execution_count": 4,
   "id": "85999e02",
   "metadata": {},
   "outputs": [],
   "source": [
    "import pandas as pd\n",
    "import numpy as np\n",
    "import matplotlib.pyplot as plt\n",
    "import seaborn as sns"
   ]
  },
  {
   "cell_type": "code",
   "execution_count": 5,
   "id": "6e6f23db",
   "metadata": {},
   "outputs": [],
   "source": [
    "houses = pd.read_csv(\"USA_Housing.csv\")"
   ]
  },
  {
   "cell_type": "code",
   "execution_count": 6,
   "id": "58346322",
   "metadata": {},
   "outputs": [
    {
     "data": {
      "text/html": [
       "<div>\n",
       "<style scoped>\n",
       "    .dataframe tbody tr th:only-of-type {\n",
       "        vertical-align: middle;\n",
       "    }\n",
       "\n",
       "    .dataframe tbody tr th {\n",
       "        vertical-align: top;\n",
       "    }\n",
       "\n",
       "    .dataframe thead th {\n",
       "        text-align: right;\n",
       "    }\n",
       "</style>\n",
       "<table border=\"1\" class=\"dataframe\">\n",
       "  <thead>\n",
       "    <tr style=\"text-align: right;\">\n",
       "      <th></th>\n",
       "      <th>Avg. Area Income</th>\n",
       "      <th>Avg. Area House Age</th>\n",
       "      <th>Avg. Area Number of Rooms</th>\n",
       "      <th>Avg. Area Number of Bedrooms</th>\n",
       "      <th>Area Population</th>\n",
       "      <th>Price</th>\n",
       "      <th>Address</th>\n",
       "    </tr>\n",
       "  </thead>\n",
       "  <tbody>\n",
       "    <tr>\n",
       "      <th>0</th>\n",
       "      <td>79545.458574</td>\n",
       "      <td>5.682861</td>\n",
       "      <td>7.009188</td>\n",
       "      <td>4.09</td>\n",
       "      <td>23086.800503</td>\n",
       "      <td>1.059034e+06</td>\n",
       "      <td>208 Michael Ferry Apt. 674\\nLaurabury, NE 3701...</td>\n",
       "    </tr>\n",
       "    <tr>\n",
       "      <th>1</th>\n",
       "      <td>79248.642455</td>\n",
       "      <td>6.002900</td>\n",
       "      <td>6.730821</td>\n",
       "      <td>3.09</td>\n",
       "      <td>40173.072174</td>\n",
       "      <td>1.505891e+06</td>\n",
       "      <td>188 Johnson Views Suite 079\\nLake Kathleen, CA...</td>\n",
       "    </tr>\n",
       "    <tr>\n",
       "      <th>2</th>\n",
       "      <td>61287.067179</td>\n",
       "      <td>5.865890</td>\n",
       "      <td>8.512727</td>\n",
       "      <td>5.13</td>\n",
       "      <td>36882.159400</td>\n",
       "      <td>1.058988e+06</td>\n",
       "      <td>9127 Elizabeth Stravenue\\nDanieltown, WI 06482...</td>\n",
       "    </tr>\n",
       "    <tr>\n",
       "      <th>3</th>\n",
       "      <td>63345.240046</td>\n",
       "      <td>7.188236</td>\n",
       "      <td>5.586729</td>\n",
       "      <td>3.26</td>\n",
       "      <td>34310.242831</td>\n",
       "      <td>1.260617e+06</td>\n",
       "      <td>USS Barnett\\nFPO AP 44820</td>\n",
       "    </tr>\n",
       "    <tr>\n",
       "      <th>4</th>\n",
       "      <td>59982.197226</td>\n",
       "      <td>5.040555</td>\n",
       "      <td>7.839388</td>\n",
       "      <td>4.23</td>\n",
       "      <td>26354.109472</td>\n",
       "      <td>6.309435e+05</td>\n",
       "      <td>USNS Raymond\\nFPO AE 09386</td>\n",
       "    </tr>\n",
       "    <tr>\n",
       "      <th>5</th>\n",
       "      <td>80175.754159</td>\n",
       "      <td>4.988408</td>\n",
       "      <td>6.104512</td>\n",
       "      <td>4.04</td>\n",
       "      <td>26748.428425</td>\n",
       "      <td>1.068138e+06</td>\n",
       "      <td>06039 Jennifer Islands Apt. 443\\nTracyport, KS...</td>\n",
       "    </tr>\n",
       "    <tr>\n",
       "      <th>6</th>\n",
       "      <td>64698.463428</td>\n",
       "      <td>6.025336</td>\n",
       "      <td>8.147760</td>\n",
       "      <td>3.41</td>\n",
       "      <td>60828.249085</td>\n",
       "      <td>1.502056e+06</td>\n",
       "      <td>4759 Daniel Shoals Suite 442\\nNguyenburgh, CO ...</td>\n",
       "    </tr>\n",
       "    <tr>\n",
       "      <th>7</th>\n",
       "      <td>78394.339278</td>\n",
       "      <td>6.989780</td>\n",
       "      <td>6.620478</td>\n",
       "      <td>2.42</td>\n",
       "      <td>36516.358972</td>\n",
       "      <td>1.573937e+06</td>\n",
       "      <td>972 Joyce Viaduct\\nLake William, TN 17778-6483</td>\n",
       "    </tr>\n",
       "    <tr>\n",
       "      <th>8</th>\n",
       "      <td>59927.660813</td>\n",
       "      <td>5.362126</td>\n",
       "      <td>6.393121</td>\n",
       "      <td>2.30</td>\n",
       "      <td>29387.396003</td>\n",
       "      <td>7.988695e+05</td>\n",
       "      <td>USS Gilbert\\nFPO AA 20957</td>\n",
       "    </tr>\n",
       "    <tr>\n",
       "      <th>9</th>\n",
       "      <td>81885.927184</td>\n",
       "      <td>4.423672</td>\n",
       "      <td>8.167688</td>\n",
       "      <td>6.10</td>\n",
       "      <td>40149.965749</td>\n",
       "      <td>1.545155e+06</td>\n",
       "      <td>Unit 9446 Box 0958\\nDPO AE 97025</td>\n",
       "    </tr>\n",
       "    <tr>\n",
       "      <th>10</th>\n",
       "      <td>80527.472083</td>\n",
       "      <td>8.093513</td>\n",
       "      <td>5.042747</td>\n",
       "      <td>4.10</td>\n",
       "      <td>47224.359840</td>\n",
       "      <td>1.707046e+06</td>\n",
       "      <td>6368 John Motorway Suite 700\\nJanetbury, NM 26854</td>\n",
       "    </tr>\n",
       "    <tr>\n",
       "      <th>11</th>\n",
       "      <td>50593.695497</td>\n",
       "      <td>4.496513</td>\n",
       "      <td>7.467627</td>\n",
       "      <td>4.49</td>\n",
       "      <td>34343.991886</td>\n",
       "      <td>6.637324e+05</td>\n",
       "      <td>911 Castillo Park Apt. 717\\nDavisborough, PW 7...</td>\n",
       "    </tr>\n",
       "    <tr>\n",
       "      <th>12</th>\n",
       "      <td>39033.809237</td>\n",
       "      <td>7.671755</td>\n",
       "      <td>7.250029</td>\n",
       "      <td>3.10</td>\n",
       "      <td>39220.361467</td>\n",
       "      <td>1.042814e+06</td>\n",
       "      <td>209 Natasha Stream Suite 961\\nHuffmanland, NE ...</td>\n",
       "    </tr>\n",
       "    <tr>\n",
       "      <th>13</th>\n",
       "      <td>73163.663441</td>\n",
       "      <td>6.919535</td>\n",
       "      <td>5.993188</td>\n",
       "      <td>2.27</td>\n",
       "      <td>32326.123139</td>\n",
       "      <td>1.291332e+06</td>\n",
       "      <td>829 Welch Track Apt. 992\\nNorth John, AR 26532...</td>\n",
       "    </tr>\n",
       "    <tr>\n",
       "      <th>14</th>\n",
       "      <td>69391.380184</td>\n",
       "      <td>5.344776</td>\n",
       "      <td>8.406418</td>\n",
       "      <td>4.37</td>\n",
       "      <td>35521.294033</td>\n",
       "      <td>1.402818e+06</td>\n",
       "      <td>PSC 5330, Box 4420\\nAPO AP 08302</td>\n",
       "    </tr>\n",
       "    <tr>\n",
       "      <th>15</th>\n",
       "      <td>73091.866746</td>\n",
       "      <td>5.443156</td>\n",
       "      <td>8.517513</td>\n",
       "      <td>4.01</td>\n",
       "      <td>23929.524053</td>\n",
       "      <td>1.306675e+06</td>\n",
       "      <td>2278 Shannon View\\nNorth Carriemouth, NM 84617</td>\n",
       "    </tr>\n",
       "    <tr>\n",
       "      <th>16</th>\n",
       "      <td>79706.963058</td>\n",
       "      <td>5.067890</td>\n",
       "      <td>8.219771</td>\n",
       "      <td>3.12</td>\n",
       "      <td>39717.813576</td>\n",
       "      <td>1.556787e+06</td>\n",
       "      <td>064 Hayley Unions\\nNicholsborough, HI 44161-1887</td>\n",
       "    </tr>\n",
       "    <tr>\n",
       "      <th>17</th>\n",
       "      <td>61929.077018</td>\n",
       "      <td>4.788550</td>\n",
       "      <td>5.097010</td>\n",
       "      <td>4.30</td>\n",
       "      <td>24595.901498</td>\n",
       "      <td>5.284852e+05</td>\n",
       "      <td>5498 Rachel Locks\\nNew Gregoryshire, PW 54755</td>\n",
       "    </tr>\n",
       "    <tr>\n",
       "      <th>18</th>\n",
       "      <td>63508.194299</td>\n",
       "      <td>5.947165</td>\n",
       "      <td>7.187774</td>\n",
       "      <td>5.12</td>\n",
       "      <td>35719.653052</td>\n",
       "      <td>1.019426e+06</td>\n",
       "      <td>Unit 7424 Box 2786\\nDPO AE 71255</td>\n",
       "    </tr>\n",
       "    <tr>\n",
       "      <th>19</th>\n",
       "      <td>62085.276403</td>\n",
       "      <td>5.739411</td>\n",
       "      <td>7.091808</td>\n",
       "      <td>5.49</td>\n",
       "      <td>44922.106702</td>\n",
       "      <td>1.030591e+06</td>\n",
       "      <td>19696 Benjamin Cape\\nStephentown, ME 36952-4733</td>\n",
       "    </tr>\n",
       "  </tbody>\n",
       "</table>\n",
       "</div>"
      ],
      "text/plain": [
       "    Avg. Area Income  Avg. Area House Age  Avg. Area Number of Rooms  \\\n",
       "0       79545.458574             5.682861                   7.009188   \n",
       "1       79248.642455             6.002900                   6.730821   \n",
       "2       61287.067179             5.865890                   8.512727   \n",
       "3       63345.240046             7.188236                   5.586729   \n",
       "4       59982.197226             5.040555                   7.839388   \n",
       "5       80175.754159             4.988408                   6.104512   \n",
       "6       64698.463428             6.025336                   8.147760   \n",
       "7       78394.339278             6.989780                   6.620478   \n",
       "8       59927.660813             5.362126                   6.393121   \n",
       "9       81885.927184             4.423672                   8.167688   \n",
       "10      80527.472083             8.093513                   5.042747   \n",
       "11      50593.695497             4.496513                   7.467627   \n",
       "12      39033.809237             7.671755                   7.250029   \n",
       "13      73163.663441             6.919535                   5.993188   \n",
       "14      69391.380184             5.344776                   8.406418   \n",
       "15      73091.866746             5.443156                   8.517513   \n",
       "16      79706.963058             5.067890                   8.219771   \n",
       "17      61929.077018             4.788550                   5.097010   \n",
       "18      63508.194299             5.947165                   7.187774   \n",
       "19      62085.276403             5.739411                   7.091808   \n",
       "\n",
       "    Avg. Area Number of Bedrooms  Area Population         Price  \\\n",
       "0                           4.09     23086.800503  1.059034e+06   \n",
       "1                           3.09     40173.072174  1.505891e+06   \n",
       "2                           5.13     36882.159400  1.058988e+06   \n",
       "3                           3.26     34310.242831  1.260617e+06   \n",
       "4                           4.23     26354.109472  6.309435e+05   \n",
       "5                           4.04     26748.428425  1.068138e+06   \n",
       "6                           3.41     60828.249085  1.502056e+06   \n",
       "7                           2.42     36516.358972  1.573937e+06   \n",
       "8                           2.30     29387.396003  7.988695e+05   \n",
       "9                           6.10     40149.965749  1.545155e+06   \n",
       "10                          4.10     47224.359840  1.707046e+06   \n",
       "11                          4.49     34343.991886  6.637324e+05   \n",
       "12                          3.10     39220.361467  1.042814e+06   \n",
       "13                          2.27     32326.123139  1.291332e+06   \n",
       "14                          4.37     35521.294033  1.402818e+06   \n",
       "15                          4.01     23929.524053  1.306675e+06   \n",
       "16                          3.12     39717.813576  1.556787e+06   \n",
       "17                          4.30     24595.901498  5.284852e+05   \n",
       "18                          5.12     35719.653052  1.019426e+06   \n",
       "19                          5.49     44922.106702  1.030591e+06   \n",
       "\n",
       "                                              Address  \n",
       "0   208 Michael Ferry Apt. 674\\nLaurabury, NE 3701...  \n",
       "1   188 Johnson Views Suite 079\\nLake Kathleen, CA...  \n",
       "2   9127 Elizabeth Stravenue\\nDanieltown, WI 06482...  \n",
       "3                           USS Barnett\\nFPO AP 44820  \n",
       "4                          USNS Raymond\\nFPO AE 09386  \n",
       "5   06039 Jennifer Islands Apt. 443\\nTracyport, KS...  \n",
       "6   4759 Daniel Shoals Suite 442\\nNguyenburgh, CO ...  \n",
       "7      972 Joyce Viaduct\\nLake William, TN 17778-6483  \n",
       "8                           USS Gilbert\\nFPO AA 20957  \n",
       "9                    Unit 9446 Box 0958\\nDPO AE 97025  \n",
       "10  6368 John Motorway Suite 700\\nJanetbury, NM 26854  \n",
       "11  911 Castillo Park Apt. 717\\nDavisborough, PW 7...  \n",
       "12  209 Natasha Stream Suite 961\\nHuffmanland, NE ...  \n",
       "13  829 Welch Track Apt. 992\\nNorth John, AR 26532...  \n",
       "14                   PSC 5330, Box 4420\\nAPO AP 08302  \n",
       "15     2278 Shannon View\\nNorth Carriemouth, NM 84617  \n",
       "16   064 Hayley Unions\\nNicholsborough, HI 44161-1887  \n",
       "17      5498 Rachel Locks\\nNew Gregoryshire, PW 54755  \n",
       "18                   Unit 7424 Box 2786\\nDPO AE 71255  \n",
       "19    19696 Benjamin Cape\\nStephentown, ME 36952-4733  "
      ]
     },
     "execution_count": 6,
     "metadata": {},
     "output_type": "execute_result"
    }
   ],
   "source": [
    "houses.head(20)"
   ]
  },
  {
   "cell_type": "code",
   "execution_count": 7,
   "id": "e65f4047",
   "metadata": {},
   "outputs": [
    {
     "name": "stdout",
     "output_type": "stream",
     "text": [
      "<class 'pandas.core.frame.DataFrame'>\n",
      "RangeIndex: 5000 entries, 0 to 4999\n",
      "Data columns (total 7 columns):\n",
      " #   Column                        Non-Null Count  Dtype  \n",
      "---  ------                        --------------  -----  \n",
      " 0   Avg. Area Income              5000 non-null   float64\n",
      " 1   Avg. Area House Age           5000 non-null   float64\n",
      " 2   Avg. Area Number of Rooms     5000 non-null   float64\n",
      " 3   Avg. Area Number of Bedrooms  5000 non-null   float64\n",
      " 4   Area Population               5000 non-null   float64\n",
      " 5   Price                         5000 non-null   float64\n",
      " 6   Address                       5000 non-null   object \n",
      "dtypes: float64(6), object(1)\n",
      "memory usage: 273.6+ KB\n"
     ]
    }
   ],
   "source": [
    "houses.info() #Ver información del dataset"
   ]
  },
  {
   "cell_type": "code",
   "execution_count": 8,
   "id": "f8e1fe93",
   "metadata": {},
   "outputs": [
    {
     "data": {
      "text/html": [
       "<div>\n",
       "<style scoped>\n",
       "    .dataframe tbody tr th:only-of-type {\n",
       "        vertical-align: middle;\n",
       "    }\n",
       "\n",
       "    .dataframe tbody tr th {\n",
       "        vertical-align: top;\n",
       "    }\n",
       "\n",
       "    .dataframe thead th {\n",
       "        text-align: right;\n",
       "    }\n",
       "</style>\n",
       "<table border=\"1\" class=\"dataframe\">\n",
       "  <thead>\n",
       "    <tr style=\"text-align: right;\">\n",
       "      <th></th>\n",
       "      <th>Avg. Area Income</th>\n",
       "      <th>Avg. Area House Age</th>\n",
       "      <th>Avg. Area Number of Rooms</th>\n",
       "      <th>Avg. Area Number of Bedrooms</th>\n",
       "      <th>Area Population</th>\n",
       "      <th>Price</th>\n",
       "    </tr>\n",
       "  </thead>\n",
       "  <tbody>\n",
       "    <tr>\n",
       "      <th>count</th>\n",
       "      <td>5000.000000</td>\n",
       "      <td>5000.000000</td>\n",
       "      <td>5000.000000</td>\n",
       "      <td>5000.000000</td>\n",
       "      <td>5000.000000</td>\n",
       "      <td>5.000000e+03</td>\n",
       "    </tr>\n",
       "    <tr>\n",
       "      <th>mean</th>\n",
       "      <td>68583.108984</td>\n",
       "      <td>5.977222</td>\n",
       "      <td>6.987792</td>\n",
       "      <td>3.981330</td>\n",
       "      <td>36163.516039</td>\n",
       "      <td>1.232073e+06</td>\n",
       "    </tr>\n",
       "    <tr>\n",
       "      <th>std</th>\n",
       "      <td>10657.991214</td>\n",
       "      <td>0.991456</td>\n",
       "      <td>1.005833</td>\n",
       "      <td>1.234137</td>\n",
       "      <td>9925.650114</td>\n",
       "      <td>3.531176e+05</td>\n",
       "    </tr>\n",
       "    <tr>\n",
       "      <th>min</th>\n",
       "      <td>17796.631190</td>\n",
       "      <td>2.644304</td>\n",
       "      <td>3.236194</td>\n",
       "      <td>2.000000</td>\n",
       "      <td>172.610686</td>\n",
       "      <td>1.593866e+04</td>\n",
       "    </tr>\n",
       "    <tr>\n",
       "      <th>25%</th>\n",
       "      <td>61480.562388</td>\n",
       "      <td>5.322283</td>\n",
       "      <td>6.299250</td>\n",
       "      <td>3.140000</td>\n",
       "      <td>29403.928702</td>\n",
       "      <td>9.975771e+05</td>\n",
       "    </tr>\n",
       "    <tr>\n",
       "      <th>50%</th>\n",
       "      <td>68804.286404</td>\n",
       "      <td>5.970429</td>\n",
       "      <td>7.002902</td>\n",
       "      <td>4.050000</td>\n",
       "      <td>36199.406689</td>\n",
       "      <td>1.232669e+06</td>\n",
       "    </tr>\n",
       "    <tr>\n",
       "      <th>75%</th>\n",
       "      <td>75783.338666</td>\n",
       "      <td>6.650808</td>\n",
       "      <td>7.665871</td>\n",
       "      <td>4.490000</td>\n",
       "      <td>42861.290769</td>\n",
       "      <td>1.471210e+06</td>\n",
       "    </tr>\n",
       "    <tr>\n",
       "      <th>max</th>\n",
       "      <td>107701.748378</td>\n",
       "      <td>9.519088</td>\n",
       "      <td>10.759588</td>\n",
       "      <td>6.500000</td>\n",
       "      <td>69621.713378</td>\n",
       "      <td>2.469066e+06</td>\n",
       "    </tr>\n",
       "  </tbody>\n",
       "</table>\n",
       "</div>"
      ],
      "text/plain": [
       "       Avg. Area Income  Avg. Area House Age  Avg. Area Number of Rooms  \\\n",
       "count       5000.000000          5000.000000                5000.000000   \n",
       "mean       68583.108984             5.977222                   6.987792   \n",
       "std        10657.991214             0.991456                   1.005833   \n",
       "min        17796.631190             2.644304                   3.236194   \n",
       "25%        61480.562388             5.322283                   6.299250   \n",
       "50%        68804.286404             5.970429                   7.002902   \n",
       "75%        75783.338666             6.650808                   7.665871   \n",
       "max       107701.748378             9.519088                  10.759588   \n",
       "\n",
       "       Avg. Area Number of Bedrooms  Area Population         Price  \n",
       "count                   5000.000000      5000.000000  5.000000e+03  \n",
       "mean                       3.981330     36163.516039  1.232073e+06  \n",
       "std                        1.234137      9925.650114  3.531176e+05  \n",
       "min                        2.000000       172.610686  1.593866e+04  \n",
       "25%                        3.140000     29403.928702  9.975771e+05  \n",
       "50%                        4.050000     36199.406689  1.232669e+06  \n",
       "75%                        4.490000     42861.290769  1.471210e+06  \n",
       "max                        6.500000     69621.713378  2.469066e+06  "
      ]
     },
     "execution_count": 8,
     "metadata": {},
     "output_type": "execute_result"
    }
   ],
   "source": [
    "houses.describe() #Mostrar las diferentes operaciones del dataset"
   ]
  },
  {
   "cell_type": "code",
   "execution_count": 9,
   "id": "0679f1ba",
   "metadata": {},
   "outputs": [
    {
     "data": {
      "text/plain": [
       "Index(['Avg. Area Income', 'Avg. Area House Age', 'Avg. Area Number of Rooms',\n",
       "       'Avg. Area Number of Bedrooms', 'Area Population', 'Price', 'Address'],\n",
       "      dtype='object')"
      ]
     },
     "execution_count": 9,
     "metadata": {},
     "output_type": "execute_result"
    }
   ],
   "source": [
    "houses.columns #Mostrar los nombres de cada una de las columnas"
   ]
  },
  {
   "cell_type": "code",
   "execution_count": 10,
   "id": "eab2c1a7",
   "metadata": {},
   "outputs": [
    {
     "data": {
      "text/plain": [
       "0       1.059034e+06\n",
       "1       1.505891e+06\n",
       "2       1.058988e+06\n",
       "3       1.260617e+06\n",
       "4       6.309435e+05\n",
       "            ...     \n",
       "4995    1.060194e+06\n",
       "4996    1.482618e+06\n",
       "4997    1.030730e+06\n",
       "4998    1.198657e+06\n",
       "4999    1.298950e+06\n",
       "Name: Price, Length: 5000, dtype: float64"
      ]
     },
     "execution_count": 10,
     "metadata": {},
     "output_type": "execute_result"
    }
   ],
   "source": [
    "houses['Price'] #Acceder al nombre de la columna"
   ]
  },
  {
   "cell_type": "code",
   "execution_count": 11,
   "id": "bee03b2b",
   "metadata": {},
   "outputs": [
    {
     "data": {
      "text/plain": [
       "0       7.009188\n",
       "1       6.730821\n",
       "2       8.512727\n",
       "3       5.586729\n",
       "4       7.839388\n",
       "          ...   \n",
       "4995    6.137356\n",
       "4996    6.576763\n",
       "4997    4.805081\n",
       "4998    7.130144\n",
       "4999    6.792336\n",
       "Name: Avg. Area Number of Rooms, Length: 5000, dtype: float64"
      ]
     },
     "execution_count": 11,
     "metadata": {},
     "output_type": "execute_result"
    }
   ],
   "source": [
    "houses['Avg. Area Number of Rooms']"
   ]
  },
  {
   "cell_type": "code",
   "execution_count": 12,
   "id": "8e6687b2",
   "metadata": {},
   "outputs": [
    {
     "name": "stderr",
     "output_type": "stream",
     "text": [
      "C:\\Users\\erick\\anaconda3\\lib\\site-packages\\seaborn\\distributions.py:2619: FutureWarning: `distplot` is a deprecated function and will be removed in a future version. Please adapt your code to use either `displot` (a figure-level function with similar flexibility) or `histplot` (an axes-level function for histograms).\n",
      "  warnings.warn(msg, FutureWarning)\n"
     ]
    },
    {
     "data": {
      "text/plain": [
       "<AxesSubplot:xlabel='Price', ylabel='Density'>"
      ]
     },
     "execution_count": 12,
     "metadata": {},
     "output_type": "execute_result"
    },
    {
     "data": {
      "image/png": "[encoded data removed]",
      "text/plain": [
       "<Figure size 432x288 with 1 Axes>"
      ]
     },
     "metadata": {
      "needs_background": "light"
     },
     "output_type": "display_data"
    }
   ],
   "source": [
    "sns.distplot(houses['Price']) #Ver la distribución del precio del dataset"
   ]
  },
  {
   "cell_type": "code",
   "execution_count": 13,
   "id": "5f61dc98",
   "metadata": {},
   "outputs": [
    {
     "data": {
      "text/plain": [
       "<AxesSubplot:>"
      ]
     },
     "execution_count": 13,
     "metadata": {},
     "output_type": "execute_result"
    },
    {
     "data": {
      "image/png": "[encoded data removed]",
      "text/plain": [
       "<Figure size 432x288 with 2 Axes>"
      ]
     },
     "metadata": {
      "needs_background": "light"
     },
     "output_type": "display_data"
    }
   ],
   "source": [
    "sns.heatmap(houses.corr(), annot=True) #Mapa de calor de relación entre las columnas"
   ]
  },
  {
   "cell_type": "markdown",
   "id": "211768c6",
   "metadata": {},
   "source": [
    "Machine Learning"
   ]
  },
  {
   "cell_type": "code",
   "execution_count": 14,
   "id": "71d7738f",
   "metadata": {},
   "outputs": [],
   "source": [
    "from sklearn.model_selection import train_test_split\n",
    "from sklearn.linear_model import LinearRegression"
   ]
  },
  {
   "cell_type": "code",
   "execution_count": 15,
   "id": "ab6dd533",
   "metadata": {},
   "outputs": [
    {
     "data": {
      "text/html": [
       "<div>\n",
       "<style scoped>\n",
       "    .dataframe tbody tr th:only-of-type {\n",
       "        vertical-align: middle;\n",
       "    }\n",
       "\n",
       "    .dataframe tbody tr th {\n",
       "        vertical-align: top;\n",
       "    }\n",
       "\n",
       "    .dataframe thead th {\n",
       "        text-align: right;\n",
       "    }\n",
       "</style>\n",
       "<table border=\"1\" class=\"dataframe\">\n",
       "  <thead>\n",
       "    <tr style=\"text-align: right;\">\n",
       "      <th></th>\n",
       "      <th>Avg. Area Income</th>\n",
       "      <th>Avg. Area House Age</th>\n",
       "      <th>Avg. Area Number of Rooms</th>\n",
       "      <th>Avg. Area Number of Bedrooms</th>\n",
       "      <th>Area Population</th>\n",
       "      <th>Price</th>\n",
       "      <th>Address</th>\n",
       "    </tr>\n",
       "  </thead>\n",
       "  <tbody>\n",
       "    <tr>\n",
       "      <th>0</th>\n",
       "      <td>79545.458574</td>\n",
       "      <td>5.682861</td>\n",
       "      <td>7.009188</td>\n",
       "      <td>4.09</td>\n",
       "      <td>23086.800503</td>\n",
       "      <td>1.059034e+06</td>\n",
       "      <td>208 Michael Ferry Apt. 674\\nLaurabury, NE 3701...</td>\n",
       "    </tr>\n",
       "    <tr>\n",
       "      <th>1</th>\n",
       "      <td>79248.642455</td>\n",
       "      <td>6.002900</td>\n",
       "      <td>6.730821</td>\n",
       "      <td>3.09</td>\n",
       "      <td>40173.072174</td>\n",
       "      <td>1.505891e+06</td>\n",
       "      <td>188 Johnson Views Suite 079\\nLake Kathleen, CA...</td>\n",
       "    </tr>\n",
       "    <tr>\n",
       "      <th>2</th>\n",
       "      <td>61287.067179</td>\n",
       "      <td>5.865890</td>\n",
       "      <td>8.512727</td>\n",
       "      <td>5.13</td>\n",
       "      <td>36882.159400</td>\n",
       "      <td>1.058988e+06</td>\n",
       "      <td>9127 Elizabeth Stravenue\\nDanieltown, WI 06482...</td>\n",
       "    </tr>\n",
       "    <tr>\n",
       "      <th>3</th>\n",
       "      <td>63345.240046</td>\n",
       "      <td>7.188236</td>\n",
       "      <td>5.586729</td>\n",
       "      <td>3.26</td>\n",
       "      <td>34310.242831</td>\n",
       "      <td>1.260617e+06</td>\n",
       "      <td>USS Barnett\\nFPO AP 44820</td>\n",
       "    </tr>\n",
       "    <tr>\n",
       "      <th>4</th>\n",
       "      <td>59982.197226</td>\n",
       "      <td>5.040555</td>\n",
       "      <td>7.839388</td>\n",
       "      <td>4.23</td>\n",
       "      <td>26354.109472</td>\n",
       "      <td>6.309435e+05</td>\n",
       "      <td>USNS Raymond\\nFPO AE 09386</td>\n",
       "    </tr>\n",
       "  </tbody>\n",
       "</table>\n",
       "</div>"
      ],
      "text/plain": [
       "   Avg. Area Income  Avg. Area House Age  Avg. Area Number of Rooms  \\\n",
       "0      79545.458574             5.682861                   7.009188   \n",
       "1      79248.642455             6.002900                   6.730821   \n",
       "2      61287.067179             5.865890                   8.512727   \n",
       "3      63345.240046             7.188236                   5.586729   \n",
       "4      59982.197226             5.040555                   7.839388   \n",
       "\n",
       "   Avg. Area Number of Bedrooms  Area Population         Price  \\\n",
       "0                          4.09     23086.800503  1.059034e+06   \n",
       "1                          3.09     40173.072174  1.505891e+06   \n",
       "2                          5.13     36882.159400  1.058988e+06   \n",
       "3                          3.26     34310.242831  1.260617e+06   \n",
       "4                          4.23     26354.109472  6.309435e+05   \n",
       "\n",
       "                                             Address  \n",
       "0  208 Michael Ferry Apt. 674\\nLaurabury, NE 3701...  \n",
       "1  188 Johnson Views Suite 079\\nLake Kathleen, CA...  \n",
       "2  9127 Elizabeth Stravenue\\nDanieltown, WI 06482...  \n",
       "3                          USS Barnett\\nFPO AP 44820  \n",
       "4                         USNS Raymond\\nFPO AE 09386  "
      ]
     },
     "execution_count": 15,
     "metadata": {},
     "output_type": "execute_result"
    }
   ],
   "source": [
    "houses.head()"
   ]
  },
  {
   "cell_type": "code",
   "execution_count": 16,
   "id": "c4a8feeb",
   "metadata": {},
   "outputs": [
    {
     "data": {
      "text/plain": [
       "Index(['Avg. Area Income', 'Avg. Area House Age', 'Avg. Area Number of Rooms',\n",
       "       'Avg. Area Number of Bedrooms', 'Area Population', 'Price', 'Address'],\n",
       "      dtype='object')"
      ]
     },
     "execution_count": 16,
     "metadata": {},
     "output_type": "execute_result"
    }
   ],
   "source": [
    "houses.columns"
   ]
  },
  {
   "cell_type": "markdown",
   "id": "4410e3db",
   "metadata": {},
   "source": [
    "Dividir el dataset en ejes de x y y. \"x\" serán las columnas númericas y la \"y\" será la variable objetivo (precio) por que se quiere estimar el precio futuro"
   ]
  },
  {
   "cell_type": "code",
   "execution_count": 19,
   "id": "305ed4d0",
   "metadata": {},
   "outputs": [],
   "source": [
    "X = houses[['Avg. Area Income', 'Avg. Area House Age', 'Avg. Area Number of Rooms',\n",
    "       'Avg. Area Number of Bedrooms', 'Area Population']] #Seleccionar las columnas"
   ]
  },
  {
   "cell_type": "code",
   "execution_count": 26,
   "id": "c27357d6",
   "metadata": {},
   "outputs": [],
   "source": [
    "Y = houses[['Price']] #Seleccionar la columna price"
   ]
  },
  {
   "cell_type": "markdown",
   "id": "9e6d780e",
   "metadata": {},
   "source": [
    "Dividir los datos en datos de entrenamiento y datos de prueba"
   ]
  },
  {
   "cell_type": "code",
   "execution_count": 27,
   "id": "6022dbc6",
   "metadata": {},
   "outputs": [],
   "source": [
    "X_train, X_test, Y_train, Y_test = train_test_split(x, y, test_size=0.3, random_state = 42) #30% para prueba y 70% para test. random_state para tomar los números del dataset de forma aleatoria "
   ]
  },
  {
   "cell_type": "code",
   "execution_count": 51,
   "id": "6332dec9",
   "metadata": {},
   "outputs": [
    {
     "data": {
      "text/plain": [
       "LinearRegression()"
      ]
     },
     "execution_count": 51,
     "metadata": {},
     "output_type": "execute_result"
    }
   ],
   "source": [
    "linear_regression_m = LinearRegression()\n",
    "linear_regression_m.fit(X_train, Y_train) #Entrenar el modelo"
   ]
  },
  {
   "cell_type": "markdown",
   "id": "3ef6c2f6",
   "metadata": {},
   "source": [
    "Evaluar el modelo"
   ]
  },
  {
   "cell_type": "code",
   "execution_count": 53,
   "id": "c10ed370",
   "metadata": {},
   "outputs": [],
   "source": [
    "from sklearn import metrics"
   ]
  },
  {
   "cell_type": "code",
   "execution_count": 56,
   "id": "f532f439",
   "metadata": {},
   "outputs": [],
   "source": [
    "predictions = linear_regression_m.predict(X_test) #Generar las predicciones"
   ]
  },
  {
   "cell_type": "code",
   "execution_count": 55,
   "id": "92e9aaf6",
   "metadata": {},
   "outputs": [
    {
     "data": {
      "text/plain": [
       "array([[1308536.13592605],\n",
       "       [1237122.72746462],\n",
       "       [1243835.62817079],\n",
       "       ...,\n",
       "       [1457119.79297226],\n",
       "       [1483428.95309313],\n",
       "       [1047510.59737201]])"
      ]
     },
     "execution_count": 55,
     "metadata": {},
     "output_type": "execute_result"
    }
   ],
   "source": [
    "predictions #Valores de las casas según el modelo"
   ]
  },
  {
   "cell_type": "code",
   "execution_count": 58,
   "id": "1396e638",
   "metadata": {},
   "outputs": [
    {
     "data": {
      "text/html": [
       "<div>\n",
       "<style scoped>\n",
       "    .dataframe tbody tr th:only-of-type {\n",
       "        vertical-align: middle;\n",
       "    }\n",
       "\n",
       "    .dataframe tbody tr th {\n",
       "        vertical-align: top;\n",
       "    }\n",
       "\n",
       "    .dataframe thead th {\n",
       "        text-align: right;\n",
       "    }\n",
       "</style>\n",
       "<table border=\"1\" class=\"dataframe\">\n",
       "  <thead>\n",
       "    <tr style=\"text-align: right;\">\n",
       "      <th></th>\n",
       "      <th>Price</th>\n",
       "    </tr>\n",
       "  </thead>\n",
       "  <tbody>\n",
       "    <tr>\n",
       "      <th>1501</th>\n",
       "      <td>1.339096e+06</td>\n",
       "    </tr>\n",
       "    <tr>\n",
       "      <th>2586</th>\n",
       "      <td>1.251794e+06</td>\n",
       "    </tr>\n",
       "    <tr>\n",
       "      <th>2653</th>\n",
       "      <td>1.340095e+06</td>\n",
       "    </tr>\n",
       "    <tr>\n",
       "      <th>1055</th>\n",
       "      <td>1.431508e+06</td>\n",
       "    </tr>\n",
       "    <tr>\n",
       "      <th>705</th>\n",
       "      <td>1.042374e+06</td>\n",
       "    </tr>\n",
       "    <tr>\n",
       "      <th>...</th>\n",
       "      <td>...</td>\n",
       "    </tr>\n",
       "    <tr>\n",
       "      <th>3563</th>\n",
       "      <td>1.348222e+06</td>\n",
       "    </tr>\n",
       "    <tr>\n",
       "      <th>1538</th>\n",
       "      <td>1.309937e+06</td>\n",
       "    </tr>\n",
       "    <tr>\n",
       "      <th>1837</th>\n",
       "      <td>1.472887e+06</td>\n",
       "    </tr>\n",
       "    <tr>\n",
       "      <th>2380</th>\n",
       "      <td>1.409762e+06</td>\n",
       "    </tr>\n",
       "    <tr>\n",
       "      <th>1912</th>\n",
       "      <td>1.009606e+06</td>\n",
       "    </tr>\n",
       "  </tbody>\n",
       "</table>\n",
       "<p>1500 rows × 1 columns</p>\n",
       "</div>"
      ],
      "text/plain": [
       "             Price\n",
       "1501  1.339096e+06\n",
       "2586  1.251794e+06\n",
       "2653  1.340095e+06\n",
       "1055  1.431508e+06\n",
       "705   1.042374e+06\n",
       "...            ...\n",
       "3563  1.348222e+06\n",
       "1538  1.309937e+06\n",
       "1837  1.472887e+06\n",
       "2380  1.409762e+06\n",
       "1912  1.009606e+06\n",
       "\n",
       "[1500 rows x 1 columns]"
      ]
     },
     "execution_count": 58,
     "metadata": {},
     "output_type": "execute_result"
    }
   ],
   "source": [
    "Y_test"
   ]
  },
  {
   "cell_type": "code",
   "execution_count": 59,
   "id": "2af68f8c",
   "metadata": {},
   "outputs": [
    {
     "data": {
      "text/plain": [
       "<matplotlib.collections.PathCollection at 0x20ada3afd00>"
      ]
     },
     "execution_count": 59,
     "metadata": {},
     "output_type": "execute_result"
    },
    {
     "data": {
      "image/png": "[encoded data removed]",
      "text/plain": [
       "<Figure size 432x288 with 1 Axes>"
      ]
     },
     "metadata": {
      "needs_background": "light"
     },
     "output_type": "display_data"
    }
   ],
   "source": [
    "plt.scatter(Y_test, predictions)"
   ]
  },
  {
   "cell_type": "markdown",
   "id": "e5fc886f",
   "metadata": {},
   "source": [
    "sns.distplot(Y_test - predictions) #Histograma"
   ]
  },
  {
   "cell_type": "markdown",
   "id": "ca10c89a",
   "metadata": {},
   "source": [
    "Evaluar de manera númerica el modelo. \n",
    "En cuanto más menor sea el valor, mejor es el modelo predicción"
   ]
  },
  {
   "cell_type": "markdown",
   "id": "fd4f83ec",
   "metadata": {},
   "source": [
    "MAE (Mean absolute error) - Media del valor absoluto de los errores"
   ]
  },
  {
   "cell_type": "code",
   "execution_count": 63,
   "id": "be90c9a4",
   "metadata": {},
   "outputs": [
    {
     "data": {
      "text/plain": [
       "81135.5660933688"
      ]
     },
     "execution_count": 63,
     "metadata": {},
     "output_type": "execute_result"
    }
   ],
   "source": [
    "metrics.mean_absolute_error(Y_test, predictions) "
   ]
  },
  {
   "cell_type": "markdown",
   "id": "957a7872",
   "metadata": {},
   "source": [
    "MSE (Media de los errores al cuadrado)"
   ]
  },
  {
   "cell_type": "code",
   "execution_count": 65,
   "id": "b1af3d57",
   "metadata": {},
   "outputs": [
    {
     "data": {
      "text/plain": [
       "10068422551.400927"
      ]
     },
     "execution_count": 65,
     "metadata": {},
     "output_type": "execute_result"
    }
   ],
   "source": [
    "metrics.mean_squared_error(Y_test, predictions)"
   ]
  },
  {
   "cell_type": "markdown",
   "id": "c54498f1",
   "metadata": {},
   "source": [
    "RMSE (La raíz cuadrada de la media de los errores al cuadrado)"
   ]
  },
  {
   "cell_type": "code",
   "execution_count": 68,
   "id": "3aea323a",
   "metadata": {},
   "outputs": [
    {
     "data": {
      "text/plain": [
       "100341.5295448546"
      ]
     },
     "execution_count": 68,
     "metadata": {},
     "output_type": "execute_result"
    }
   ],
   "source": [
    "np.sqrt(metrics.mean_squared_error(Y_test, predictions)) #Aplicar la raíz cuadrada"
   ]
  },
  {
   "cell_type": "code",
   "execution_count": null,
   "id": "7d011250",
   "metadata": {},
   "outputs": [],
   "source": []
  }
 ],
 "metadata": {
  "kernelspec": {
   "display_name": "Python 3 (ipykernel)",
   "language": "python",
   "name": "python3"
  },
  "language_info": {
   "codemirror_mode": {
    "name": "ipython",
    "version": 3
   },
   "file_extension": ".py",
   "mimetype": "text/x-python",
   "name": "python",
   "nbconvert_exporter": "python",
   "pygments_lexer": "ipython3",
   "version": "3.9.12"
  }
 },
 "nbformat": 4,
 "nbformat_minor": 5
}
