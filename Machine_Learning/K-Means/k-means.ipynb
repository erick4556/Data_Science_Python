{
 "cells": [
  {
   "cell_type": "markdown",
   "id": "0fa731d4",
   "metadata": {},
   "source": [
    "K-Medias"
   ]
  },
  {
   "cell_type": "code",
   "execution_count": 3,
   "id": "7e0fb1dd",
   "metadata": {},
   "outputs": [],
   "source": [
    "import pandas as pd\n",
    "import numpy as np\n",
    "import seaborn as sns\n",
    "import matplotlib.pyplot as plt"
   ]
  },
  {
   "cell_type": "code",
   "execution_count": 4,
   "id": "fce1f5cf",
   "metadata": {},
   "outputs": [],
   "source": [
    "from sklearn.datasets import make_blobs"
   ]
  },
  {
   "cell_type": "code",
   "execution_count": 5,
   "id": "f0dd40a0",
   "metadata": {},
   "outputs": [],
   "source": [
    "#Se le pasa el número de ejemplos a generar, número características que va ser 2 (x,y) y el número centros (cuantos grupos queremos generar)\n",
    "data = make_blobs(n_samples=200, n_features=2, centers=4) "
   ]
  },
  {
   "cell_type": "code",
   "execution_count": 9,
   "id": "6a91b6b8",
   "metadata": {},
   "outputs": [
    {
     "data": {
      "text/plain": [
       "(array([[ -3.53265128,  -4.49662827],\n",
       "        [  7.87146895,   7.79454207],\n",
       "        [ -2.34055863,  -4.6577809 ],\n",
       "        [ -7.72220312,   8.41005084],\n",
       "        [ -1.01593713,  -5.30587259],\n",
       "        [  8.00910349,   7.05232671],\n",
       "        [  8.25945939,  -5.8997691 ],\n",
       "        [ -9.77746048,   8.35900666],\n",
       "        [ -8.30464982,   7.83414478],\n",
       "        [  9.30115314,  -5.75977297],\n",
       "        [ -2.7802735 ,  -5.31976483],\n",
       "        [-11.27110643,   6.34482667],\n",
       "        [ -1.55414449,  -4.43320336],\n",
       "        [  6.61731185,   8.3626173 ],\n",
       "        [ -1.32948825,  -6.11417104],\n",
       "        [  7.95962444,   7.13562082],\n",
       "        [ -8.74986694,   8.37007231],\n",
       "        [  9.83481503,  -6.54965253],\n",
       "        [ -1.45537473,  -6.02539726],\n",
       "        [ -8.77720025,   7.12918448],\n",
       "        [ -2.64533341,  -5.50628665],\n",
       "        [ -0.25299114,  -6.61565531],\n",
       "        [  7.76165378,  -5.98105789],\n",
       "        [ 10.60689533,  -6.26649133],\n",
       "        [ -2.75827256,  -5.47860752],\n",
       "        [  9.65388132,  -5.11413277],\n",
       "        [ -7.9492585 ,   7.10835735],\n",
       "        [ 10.62768625,  -4.02443702],\n",
       "        [  9.41281463,   8.29332805],\n",
       "        [ -2.83698843,  -6.94741858],\n",
       "        [ -2.05272462,  -5.14220773],\n",
       "        [  8.65390385,  -5.0237629 ],\n",
       "        [ -8.3809351 ,   8.21372902],\n",
       "        [ 10.3584611 ,  -5.95883652],\n",
       "        [  9.43719263,  -4.45802195],\n",
       "        [ -0.27648431,  -5.41257632],\n",
       "        [ -9.30542108,   8.35515328],\n",
       "        [  8.68214445,   5.93194019],\n",
       "        [  9.39902123,  -5.98308187],\n",
       "        [  9.46837007,   6.71533014],\n",
       "        [  8.98127367,  -5.68255351],\n",
       "        [-10.18007701,   7.08815487],\n",
       "        [ -2.63474556,  -4.88472831],\n",
       "        [ -4.18091652,  -4.04472832],\n",
       "        [ -9.58819873,   6.8757369 ],\n",
       "        [ -1.94803874,  -6.0623981 ],\n",
       "        [ -1.17936418,  -4.53131936],\n",
       "        [ 10.14242401,  -4.99353472],\n",
       "        [ -9.55800135,   6.2723603 ],\n",
       "        [ -1.97322391,  -4.81784792],\n",
       "        [ -7.83352166,   8.0707953 ],\n",
       "        [  9.89277823,   6.13559263],\n",
       "        [ -1.64940341,  -7.03888828],\n",
       "        [ 10.09914409,   5.87056849],\n",
       "        [  9.70477683,  -5.24572851],\n",
       "        [  9.20782495,  -5.31244855],\n",
       "        [ 10.97532213,  -6.80124029],\n",
       "        [ 10.06415922,  -4.37156544],\n",
       "        [ -2.20541663,  -5.96547367],\n",
       "        [  9.76746748,   7.91004993],\n",
       "        [  8.84275304,  -4.83326466],\n",
       "        [ 11.35060362,  -6.63394004],\n",
       "        [ -3.44187747,  -5.78086433],\n",
       "        [ -8.34233042,   7.36585967],\n",
       "        [  8.36847468,  -6.62207685],\n",
       "        [ 10.70475681,  -5.94078306],\n",
       "        [ -1.34373615,  -5.4336499 ],\n",
       "        [  9.9341859 ,  -4.39945043],\n",
       "        [  9.97292353,  -5.90039582],\n",
       "        [ -4.03672783,  -6.96193776],\n",
       "        [ 10.69097288,  -6.34859239],\n",
       "        [  9.13494744,   4.98814917],\n",
       "        [ -8.43844191,   7.86500327],\n",
       "        [ -0.99381346,  -5.75367632],\n",
       "        [  9.12299575,   7.06080574],\n",
       "        [  8.76797573,   6.91831772],\n",
       "        [ -6.07793314,   6.02749011],\n",
       "        [-10.00606787,   8.09556894],\n",
       "        [ -7.47883693,   7.36786299],\n",
       "        [ 10.93153242,  -4.21890173],\n",
       "        [ -5.36969587,   7.7968707 ],\n",
       "        [ -1.43981924,  -5.76139995],\n",
       "        [  8.3867248 ,   5.86107976],\n",
       "        [  9.67577496,  -5.51897068],\n",
       "        [ -2.90641292,  -4.34302568],\n",
       "        [ 10.31835609,  -5.18164458],\n",
       "        [ -7.34180463,   6.86014548],\n",
       "        [ -7.81325119,   6.8167326 ],\n",
       "        [  9.0022896 ,   7.10386402],\n",
       "        [ 10.14393802,   5.94741125],\n",
       "        [ -8.12883621,   6.95155875],\n",
       "        [  9.33946232,  -4.70106502],\n",
       "        [ -8.72774387,   5.10759696],\n",
       "        [ -9.58168066,   6.56019293],\n",
       "        [ 10.1783137 ,   5.20432079],\n",
       "        [ 10.64218451,  -8.21261661],\n",
       "        [  8.46718312,   7.05028857],\n",
       "        [ -8.95022882,   7.6091403 ],\n",
       "        [  8.72517906,   6.82251744],\n",
       "        [  8.34042639,  -6.96881438],\n",
       "        [ -7.84895999,   6.6543941 ],\n",
       "        [  8.40808655,   5.41050206],\n",
       "        [ -1.50885315,  -6.47845764],\n",
       "        [ -4.51004747,  -4.57477157],\n",
       "        [  9.46796103,  -5.97511387],\n",
       "        [ -8.45285466,   8.94705202],\n",
       "        [  9.4184582 ,   6.68153727],\n",
       "        [ -6.84972977,   8.23061515],\n",
       "        [ 10.14035171,   5.44728434],\n",
       "        [ -4.14038432,  -6.4815937 ],\n",
       "        [ -0.85527128,  -4.81045535],\n",
       "        [ -1.69478127,  -4.72364349],\n",
       "        [ -8.16695579,   6.59352777],\n",
       "        [  9.26780181,   6.21402727],\n",
       "        [ 10.77351999,   7.3346696 ],\n",
       "        [ -1.66752936,  -5.71931409],\n",
       "        [  9.1902879 ,  -5.0699144 ],\n",
       "        [  8.9045099 ,   5.88195911],\n",
       "        [ -4.61541054,  -4.87564771],\n",
       "        [-10.6867853 ,   7.54665601],\n",
       "        [ -7.7651419 ,   6.02732877],\n",
       "        [  8.84884922,  -6.05488269],\n",
       "        [ -9.13027079,   5.39208826],\n",
       "        [ 10.57728981,   5.20562145],\n",
       "        [ -2.49188772,  -8.03618352],\n",
       "        [  9.27920808,   5.69500416],\n",
       "        [ 10.3557083 ,  -4.39739523],\n",
       "        [ -8.79595149,   7.50144176],\n",
       "        [ -7.89887106,   7.11257187],\n",
       "        [  9.25702939,  -4.81057299],\n",
       "        [ -2.07288402,  -5.89268184],\n",
       "        [  8.72166471,   6.90141641],\n",
       "        [ -1.0486414 ,  -6.05267964],\n",
       "        [ -9.99999809,   8.70520132],\n",
       "        [  9.18935635,   4.65780173],\n",
       "        [  7.83125018,   6.95398099],\n",
       "        [  9.72638149,  -4.94692198],\n",
       "        [ -8.82711872,   8.36985574],\n",
       "        [ -1.32113662,  -6.98633878],\n",
       "        [  9.45797055,   5.31656399],\n",
       "        [ -8.19102749,   7.34608522],\n",
       "        [ 10.66945116,  -5.33740151],\n",
       "        [ -1.74807528,  -4.9646653 ],\n",
       "        [  8.97908647,   6.45173997],\n",
       "        [  9.49629831,   6.93935332],\n",
       "        [  9.22009013,   4.80919373],\n",
       "        [ -9.59405629,   6.13898964],\n",
       "        [ -2.53541508,  -5.93046413],\n",
       "        [  8.98516339,   5.58035621],\n",
       "        [  8.40239661,   5.72358192],\n",
       "        [ -0.26296936,  -5.86788035],\n",
       "        [  9.01887713,  -6.36980958],\n",
       "        [ -3.04628802,  -4.81110967],\n",
       "        [  9.58889508,   5.2029078 ],\n",
       "        [ 10.50552343,  -5.41430156],\n",
       "        [ -8.12117986,   6.98086624],\n",
       "        [ -2.19880494,  -5.47718939],\n",
       "        [ -7.01255219,   8.10046834],\n",
       "        [ 11.37890253,  -5.95606868],\n",
       "        [ -2.94621345,  -5.22814571],\n",
       "        [  8.17281591,   5.78419128],\n",
       "        [ -2.65728906,  -5.57107242],\n",
       "        [  9.67439345,  -5.88015328],\n",
       "        [  9.54722105,   4.83052815],\n",
       "        [  8.2179365 ,   7.07293363],\n",
       "        [  8.26213105,  -6.57616382],\n",
       "        [  8.70106266,  -3.46075803],\n",
       "        [  7.5053099 ,  -4.73250121],\n",
       "        [  7.40462463,   5.46865231],\n",
       "        [ -2.66364328,  -5.78773698],\n",
       "        [ -7.71371691,   7.50829526],\n",
       "        [  7.31120828,   4.53181431],\n",
       "        [ -9.0757685 ,   8.30333301],\n",
       "        [  7.61204267,   5.83520523],\n",
       "        [  8.22799674,   6.46048533],\n",
       "        [ 10.20235744,  -4.79958226],\n",
       "        [ -7.73075918,   7.47242611],\n",
       "        [  9.0977283 ,  -4.8516665 ],\n",
       "        [  7.02315085,   6.69492031],\n",
       "        [  9.38222875,   8.09061563],\n",
       "        [  8.39404279,   5.97570591],\n",
       "        [  7.80620799,   6.68326429],\n",
       "        [ -8.78655124,   7.52359819],\n",
       "        [ -2.17182927,  -4.59291375],\n",
       "        [  9.54803355,  -7.12451674],\n",
       "        [ 10.06818762,  -6.60157499],\n",
       "        [ -0.09196713,  -6.20969268],\n",
       "        [ -8.69861786,   7.29885238],\n",
       "        [-10.41201426,   9.00834778],\n",
       "        [  7.95684332,   7.45643264],\n",
       "        [ -8.63530349,   8.57805915],\n",
       "        [ 11.76659668,  -3.91769457],\n",
       "        [ -1.06038559,  -4.45479193],\n",
       "        [ -1.37750442,  -6.54122461],\n",
       "        [ -6.95403058,   6.07192917],\n",
       "        [ -7.9446282 ,   7.53048248],\n",
       "        [ -9.18845018,   7.14288863],\n",
       "        [  9.37383817,  -6.36500991],\n",
       "        [ 10.36545867,   6.34778708],\n",
       "        [ -2.88008465,  -5.90980611]]),\n",
       " array([3, 2, 3, 1, 3, 2, 0, 1, 1, 0, 3, 1, 3, 2, 3, 2, 1, 0, 3, 1, 3, 3,\n",
       "        0, 0, 3, 0, 1, 0, 2, 3, 3, 0, 1, 0, 0, 3, 1, 2, 0, 2, 0, 1, 3, 3,\n",
       "        1, 3, 3, 0, 1, 3, 1, 2, 3, 2, 0, 0, 0, 0, 3, 2, 0, 0, 3, 1, 0, 0,\n",
       "        3, 0, 0, 3, 0, 2, 1, 3, 2, 2, 1, 1, 1, 0, 1, 3, 2, 0, 3, 0, 1, 1,\n",
       "        2, 2, 1, 0, 1, 1, 2, 0, 2, 1, 2, 0, 1, 2, 3, 3, 0, 1, 2, 1, 2, 3,\n",
       "        3, 3, 1, 2, 2, 3, 0, 2, 3, 1, 1, 0, 1, 2, 3, 2, 0, 1, 1, 0, 3, 2,\n",
       "        3, 1, 2, 2, 0, 1, 3, 2, 1, 0, 3, 2, 2, 2, 1, 3, 2, 2, 3, 0, 3, 2,\n",
       "        0, 1, 3, 1, 0, 3, 2, 3, 0, 2, 2, 0, 0, 0, 2, 3, 1, 2, 1, 2, 2, 0,\n",
       "        1, 0, 2, 2, 2, 2, 1, 3, 0, 0, 3, 1, 1, 2, 1, 0, 3, 3, 1, 1, 1, 0,\n",
       "        2, 3]))"
      ]
     },
     "execution_count": 9,
     "metadata": {},
     "output_type": "execute_result"
    }
   ],
   "source": [
    "data"
   ]
  },
  {
   "cell_type": "code",
   "execution_count": 13,
   "id": "a8e250d0",
   "metadata": {},
   "outputs": [
    {
     "data": {
      "text/plain": [
       "<matplotlib.collections.PathCollection at 0x2c261527640>"
      ]
     },
     "execution_count": 13,
     "metadata": {},
     "output_type": "execute_result"
    },
    {
     "data": {
      "image/png": "[encoded data removed]",
      "text/plain": [
       "<Figure size 432x288 with 1 Axes>"
      ]
     },
     "metadata": {
      "needs_background": "light"
     },
     "output_type": "display_data"
    }
   ],
   "source": [
    "#Generar un gráfico de la distribución de los puntos\n",
    "plt.scatter(data[0][:,0], data[0][:,1]) #Se pasa la primera columna y la segunda columna. Están agrupados en torno a 4 puntos"
   ]
  },
  {
   "cell_type": "code",
   "execution_count": 14,
   "id": "29ba25c7",
   "metadata": {},
   "outputs": [],
   "source": [
    "#Generar el algoritmo de las k-medias\n",
    "from sklearn.cluster import KMeans"
   ]
  },
  {
   "cell_type": "code",
   "execution_count": 15,
   "id": "83bca40a",
   "metadata": {},
   "outputs": [],
   "source": [
    "model = KMeans(n_clusters= 4) #Se le pasa el número de centros o de grupos o clusters que se queire hacer"
   ]
  },
  {
   "cell_type": "code",
   "execution_count": 16,
   "id": "202dd228",
   "metadata": {},
   "outputs": [
    {
     "data": {
      "text/plain": [
       "KMeans(n_clusters=4)"
      ]
     },
     "execution_count": 16,
     "metadata": {},
     "output_type": "execute_result"
    }
   ],
   "source": [
    "model.fit(data[0]) #Entrenar el modelo con los datos"
   ]
  },
  {
   "cell_type": "code",
   "execution_count": 18,
   "id": "0ea224bd",
   "metadata": {},
   "outputs": [
    {
     "data": {
      "text/plain": [
       "array([[-8.52272092,  7.378819  ],\n",
       "       [ 9.69401843, -5.55097216],\n",
       "       [ 8.87545902,  6.31597416],\n",
       "       [-2.1266403 , -5.57627937]])"
      ]
     },
     "execution_count": 18,
     "metadata": {},
     "output_type": "execute_result"
    }
   ],
   "source": [
    "model.cluster_centers_ #Ver los centros que ha generado"
   ]
  },
  {
   "cell_type": "code",
   "execution_count": 20,
   "id": "51848ba7",
   "metadata": {},
   "outputs": [
    {
     "data": {
      "text/plain": [
       "array([3, 2, 3, 0, 3, 2, 1, 0, 0, 1, 3, 0, 3, 2, 3, 2, 0, 1, 3, 0, 3, 3,\n",
       "       1, 1, 3, 1, 0, 1, 2, 3, 3, 1, 0, 1, 1, 3, 0, 2, 1, 2, 1, 0, 3, 3,\n",
       "       0, 3, 3, 1, 0, 3, 0, 2, 3, 2, 1, 1, 1, 1, 3, 2, 1, 1, 3, 0, 1, 1,\n",
       "       3, 1, 1, 3, 1, 2, 0, 3, 2, 2, 0, 0, 0, 1, 0, 3, 2, 1, 3, 1, 0, 0,\n",
       "       2, 2, 0, 1, 0, 0, 2, 1, 2, 0, 2, 1, 0, 2, 3, 3, 1, 0, 2, 0, 2, 3,\n",
       "       3, 3, 0, 2, 2, 3, 1, 2, 3, 0, 0, 1, 0, 2, 3, 2, 1, 0, 0, 1, 3, 2,\n",
       "       3, 0, 2, 2, 1, 0, 3, 2, 0, 1, 3, 2, 2, 2, 0, 3, 2, 2, 3, 1, 3, 2,\n",
       "       1, 0, 3, 0, 1, 3, 2, 3, 1, 2, 2, 1, 1, 1, 2, 3, 0, 2, 0, 2, 2, 1,\n",
       "       0, 1, 2, 2, 2, 2, 0, 3, 1, 1, 3, 0, 0, 2, 0, 1, 3, 3, 0, 0, 0, 1,\n",
       "       2, 3])"
      ]
     },
     "execution_count": 20,
     "metadata": {},
     "output_type": "execute_result"
    }
   ],
   "source": [
    "model.labels_ #Ver los grupos que se han asignados"
   ]
  },
  {
   "cell_type": "code",
   "execution_count": 21,
   "id": "3a311bdc",
   "metadata": {},
   "outputs": [
    {
     "data": {
      "text/plain": [
       "array([3, 2, 3, 1, 3, 2, 0, 1, 1, 0, 3, 1, 3, 2, 3, 2, 1, 0, 3, 1, 3, 3,\n",
       "       0, 0, 3, 0, 1, 0, 2, 3, 3, 0, 1, 0, 0, 3, 1, 2, 0, 2, 0, 1, 3, 3,\n",
       "       1, 3, 3, 0, 1, 3, 1, 2, 3, 2, 0, 0, 0, 0, 3, 2, 0, 0, 3, 1, 0, 0,\n",
       "       3, 0, 0, 3, 0, 2, 1, 3, 2, 2, 1, 1, 1, 0, 1, 3, 2, 0, 3, 0, 1, 1,\n",
       "       2, 2, 1, 0, 1, 1, 2, 0, 2, 1, 2, 0, 1, 2, 3, 3, 0, 1, 2, 1, 2, 3,\n",
       "       3, 3, 1, 2, 2, 3, 0, 2, 3, 1, 1, 0, 1, 2, 3, 2, 0, 1, 1, 0, 3, 2,\n",
       "       3, 1, 2, 2, 0, 1, 3, 2, 1, 0, 3, 2, 2, 2, 1, 3, 2, 2, 3, 0, 3, 2,\n",
       "       0, 1, 3, 1, 0, 3, 2, 3, 0, 2, 2, 0, 0, 0, 2, 3, 1, 2, 1, 2, 2, 0,\n",
       "       1, 0, 2, 2, 2, 2, 1, 3, 0, 0, 3, 1, 1, 2, 1, 0, 3, 3, 1, 1, 1, 0,\n",
       "       2, 3])"
      ]
     },
     "execution_count": 21,
     "metadata": {},
     "output_type": "execute_result"
    }
   ],
   "source": [
    "data[1] #Agrupación original que ha generado matplot"
   ]
  },
  {
   "cell_type": "code",
   "execution_count": 31,
   "id": "98857871",
   "metadata": {},
   "outputs": [
    {
     "data": {
      "text/plain": [
       "Text(0.5, 1.0, 'Original Data')"
      ]
     },
     "execution_count": 31,
     "metadata": {},
     "output_type": "execute_result"
    },
    {
     "data": {
      "image/png": "[encoded data removed]",
      "text/plain": [
       "<Figure size 864x288 with 2 Axes>"
      ]
     },
     "metadata": {
      "needs_background": "light"
     },
     "output_type": "display_data"
    }
   ],
   "source": [
    "#Ver las 2 gráficas y ver si se ha agrupado de la misma forma\n",
    "fig, (ax1,ax2) = plt.subplots(1,2, figsize=(12,4)) #Genera 1 fila con 2 columnas, se pasa el tamaño del gráfico que va ser 12x4. Cada columna con un gráfico\n",
    "ax1.scatter(data[0][:,0], data[0][:,1], c=model.labels_) #Se pasas las 2 primeras columnas de data[0] y los centros que se han obtenido con el modelo\n",
    "ax1.set_title(\"K-Means Alghoritm\")\n",
    "\n",
    "ax2.scatter(data[0][:,0], data[0][:,1], c=data[1]) #Se pasas las 2 primeras columnas de data[0] y los datos de data[1]\n",
    "ax2.set_title(\"Original Data\")"
   ]
  },
  {
   "cell_type": "code",
   "execution_count": null,
   "id": "71ae3ae7",
   "metadata": {},
   "outputs": [],
   "source": [
    "#Se puede ver que los puntos son los mismo y ha podido agrupar los puntos de la misma forma que el original"
   ]
  }
 ],
 "metadata": {
  "kernelspec": {
   "display_name": "Python 3 (ipykernel)",
   "language": "python",
   "name": "python3"
  },
  "language_info": {
   "codemirror_mode": {
    "name": "ipython",
    "version": 3
   },
   "file_extension": ".py",
   "mimetype": "text/x-python",
   "name": "python",
   "nbconvert_exporter": "python",
   "pygments_lexer": "ipython3",
   "version": "3.9.12"
  }
 },
 "nbformat": 4,
 "nbformat_minor": 5
}
