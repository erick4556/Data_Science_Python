{
 "cells": [
  {
   "cell_type": "code",
   "execution_count": 1,
   "id": "0c8af9ca",
   "metadata": {},
   "outputs": [],
   "source": [
    "#Series\n",
    "import numpy as np\n",
    "import pandas as pd"
   ]
  },
  {
   "cell_type": "code",
   "execution_count": 9,
   "id": "7c5e47c8",
   "metadata": {},
   "outputs": [
    {
     "data": {
      "text/plain": [
       "a    1\n",
       "b    2\n",
       "c    3\n",
       "dtype: int64"
      ]
     },
     "execution_count": 9,
     "metadata": {},
     "output_type": "execute_result"
    }
   ],
   "source": [
    "tag = ['a','b','c']\n",
    "data = [1,2,3]\n",
    "pd.Series(data = data, index = tag) #Crear serie"
   ]
  },
  {
   "cell_type": "code",
   "execution_count": 20,
   "id": "1bd21f6c",
   "metadata": {},
   "outputs": [],
   "source": [
    "array = np.arange(0,3)\n",
    "tag = [\"Venta1\", \"Venta2\", \"Venta3\"]\n",
    "serie = pd.Series(array, tag) #Crear serie a partir de array. No es necesario poner data = ni index =, despues que se pasen los datos en orden"
   ]
  },
  {
   "cell_type": "code",
   "execution_count": 21,
   "id": "0b8c0d4e",
   "metadata": {},
   "outputs": [
    {
     "data": {
      "text/plain": [
       "1"
      ]
     },
     "execution_count": 21,
     "metadata": {},
     "output_type": "execute_result"
    }
   ],
   "source": [
    "serie[\"Venta2\"]"
   ]
  },
  {
   "cell_type": "code",
   "execution_count": 23,
   "id": "40bd19e8",
   "metadata": {},
   "outputs": [
    {
     "data": {
      "text/plain": [
       "2"
      ]
     },
     "execution_count": 23,
     "metadata": {},
     "output_type": "execute_result"
    }
   ],
   "source": [
    "serie[2]"
   ]
  },
  {
   "cell_type": "code",
   "execution_count": 25,
   "id": "4d0b79b6",
   "metadata": {},
   "outputs": [
    {
     "data": {
      "text/plain": [
       "0    informatica\n",
       "1            300\n",
       "2          texto\n",
       "3            900\n",
       "dtype: object"
      ]
     },
     "execution_count": 25,
     "metadata": {},
     "output_type": "execute_result"
    }
   ],
   "source": [
    "data2 = ['informatica', 300, \"texto\", 900]\n",
    "pd.Series(data2)"
   ]
  },
  {
   "cell_type": "code",
   "execution_count": 54,
   "id": "3373779e",
   "metadata": {},
   "outputs": [],
   "source": [
    "serie1 = pd.Series([1,2,3],[\"a\", \"b\", \"c\"])\n",
    "serie2 = pd.Series([4,8,9],[\"a\", \"b\", \"c\"])"
   ]
  },
  {
   "cell_type": "code",
   "execution_count": 55,
   "id": "f33020ea",
   "metadata": {},
   "outputs": [],
   "source": [
    "serie_sum = serie1 + serie2"
   ]
  },
  {
   "cell_type": "code",
   "execution_count": 56,
   "id": "559890cc",
   "metadata": {},
   "outputs": [
    {
     "data": {
      "text/plain": [
       "a     5\n",
       "b    10\n",
       "c    12\n",
       "dtype: int64"
      ]
     },
     "execution_count": 56,
     "metadata": {},
     "output_type": "execute_result"
    }
   ],
   "source": [
    "serie_sum"
   ]
  },
  {
   "cell_type": "code",
   "execution_count": 57,
   "id": "63e563a8",
   "metadata": {},
   "outputs": [
    {
     "data": {
      "text/plain": [
       "a    1\n",
       "b    2\n",
       "c    3\n",
       "dtype: int64"
      ]
     },
     "execution_count": 57,
     "metadata": {},
     "output_type": "execute_result"
    }
   ],
   "source": [
    "serie1"
   ]
  },
  {
   "cell_type": "code",
   "execution_count": 58,
   "id": "79f8c6df",
   "metadata": {},
   "outputs": [
    {
     "data": {
      "text/plain": [
       "a    4\n",
       "b    8\n",
       "c    9\n",
       "dtype: int64"
      ]
     },
     "execution_count": 58,
     "metadata": {},
     "output_type": "execute_result"
    }
   ],
   "source": [
    "serie2"
   ]
  },
  {
   "cell_type": "code",
   "execution_count": 93,
   "id": "110d0e7c",
   "metadata": {},
   "outputs": [
    {
     "data": {
      "text/plain": [
       "a     5\n",
       "b    10\n",
       "c    12\n",
       "dtype: int64"
      ]
     },
     "execution_count": 93,
     "metadata": {},
     "output_type": "execute_result"
    }
   ],
   "source": [
    "serie_sum"
   ]
  },
  {
   "cell_type": "code",
   "execution_count": null,
   "id": "c370a0e0",
   "metadata": {},
   "outputs": [],
   "source": []
  }
 ],
 "metadata": {
  "kernelspec": {
   "display_name": "Python 3 (ipykernel)",
   "language": "python",
   "name": "python3"
  },
  "language_info": {
   "codemirror_mode": {
    "name": "ipython",
    "version": 3
   },
   "file_extension": ".py",
   "mimetype": "text/x-python",
   "name": "python",
   "nbconvert_exporter": "python",
   "pygments_lexer": "ipython3",
   "version": "3.9.12"
  }
 },
 "nbformat": 4,
 "nbformat_minor": 5
}
