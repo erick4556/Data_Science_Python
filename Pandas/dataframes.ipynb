{
 "cells": [
  {
   "cell_type": "code",
   "execution_count": 1,
   "id": "6466a852",
   "metadata": {},
   "outputs": [],
   "source": [
    "#DataFrames\n",
    "import numpy as np\n",
    "import pandas as pd"
   ]
  },
  {
   "cell_type": "code",
   "execution_count": 2,
   "id": "5b74463b",
   "metadata": {},
   "outputs": [],
   "source": [
    "rows = [\"ventas1\", \"ventas2\", \"ventas3\"]\n",
    "columns = ['zonaA', \"zonaB\", \"zonaC\"]\n",
    "data = [ [130, 890, 378], [345, 541, 259], [890, 765, 345] ]"
   ]
  },
  {
   "cell_type": "code",
   "execution_count": 47,
   "id": "673555f1",
   "metadata": {},
   "outputs": [
    {
     "data": {
      "text/html": [
       "<div>\n",
       "<style scoped>\n",
       "    .dataframe tbody tr th:only-of-type {\n",
       "        vertical-align: middle;\n",
       "    }\n",
       "\n",
       "    .dataframe tbody tr th {\n",
       "        vertical-align: top;\n",
       "    }\n",
       "\n",
       "    .dataframe thead th {\n",
       "        text-align: right;\n",
       "    }\n",
       "</style>\n",
       "<table border=\"1\" class=\"dataframe\">\n",
       "  <thead>\n",
       "    <tr style=\"text-align: right;\">\n",
       "      <th></th>\n",
       "      <th>zonaA</th>\n",
       "      <th>zonaB</th>\n",
       "      <th>zonaC</th>\n",
       "    </tr>\n",
       "  </thead>\n",
       "  <tbody>\n",
       "    <tr>\n",
       "      <th>ventas1</th>\n",
       "      <td>130</td>\n",
       "      <td>890</td>\n",
       "      <td>378</td>\n",
       "    </tr>\n",
       "    <tr>\n",
       "      <th>ventas2</th>\n",
       "      <td>345</td>\n",
       "      <td>541</td>\n",
       "      <td>259</td>\n",
       "    </tr>\n",
       "    <tr>\n",
       "      <th>ventas3</th>\n",
       "      <td>890</td>\n",
       "      <td>765</td>\n",
       "      <td>345</td>\n",
       "    </tr>\n",
       "  </tbody>\n",
       "</table>\n",
       "</div>"
      ],
      "text/plain": [
       "         zonaA  zonaB  zonaC\n",
       "ventas1    130    890    378\n",
       "ventas2    345    541    259\n",
       "ventas3    890    765    345"
      ]
     },
     "execution_count": 47,
     "metadata": {},
     "output_type": "execute_result"
    }
   ],
   "source": [
    "dataframe = pd.DataFrame(data, rows, columns)\n",
    "dataframe"
   ]
  },
  {
   "cell_type": "code",
   "execution_count": 4,
   "id": "47d7ddd5",
   "metadata": {},
   "outputs": [
    {
     "data": {
      "text/plain": [
       "zonaA    130\n",
       "zonaB    890\n",
       "zonaC    378\n",
       "Name: ventas1, dtype: int64"
      ]
     },
     "execution_count": 4,
     "metadata": {},
     "output_type": "execute_result"
    }
   ],
   "source": [
    "dataframe.loc[\"ventas1\"] #Seleccionar fila"
   ]
  },
  {
   "cell_type": "code",
   "execution_count": 24,
   "id": "b54d10a2",
   "metadata": {},
   "outputs": [
    {
     "data": {
      "text/html": [
       "<div>\n",
       "<style scoped>\n",
       "    .dataframe tbody tr th:only-of-type {\n",
       "        vertical-align: middle;\n",
       "    }\n",
       "\n",
       "    .dataframe tbody tr th {\n",
       "        vertical-align: top;\n",
       "    }\n",
       "\n",
       "    .dataframe thead th {\n",
       "        text-align: right;\n",
       "    }\n",
       "</style>\n",
       "<table border=\"1\" class=\"dataframe\">\n",
       "  <thead>\n",
       "    <tr style=\"text-align: right;\">\n",
       "      <th></th>\n",
       "      <th>zonaA</th>\n",
       "      <th>zonaB</th>\n",
       "      <th>zonaC</th>\n",
       "      <th>Zonas</th>\n",
       "    </tr>\n",
       "  </thead>\n",
       "  <tbody>\n",
       "    <tr>\n",
       "      <th>ventas1</th>\n",
       "      <td>130</td>\n",
       "      <td>890</td>\n",
       "      <td>378</td>\n",
       "      <td>1398</td>\n",
       "    </tr>\n",
       "    <tr>\n",
       "      <th>ventas2</th>\n",
       "      <td>345</td>\n",
       "      <td>541</td>\n",
       "      <td>259</td>\n",
       "      <td>1145</td>\n",
       "    </tr>\n",
       "  </tbody>\n",
       "</table>\n",
       "</div>"
      ],
      "text/plain": [
       "         zonaA  zonaB  zonaC  Zonas\n",
       "ventas1    130    890    378   1398\n",
       "ventas2    345    541    259   1145"
      ]
     },
     "execution_count": 24,
     "metadata": {},
     "output_type": "execute_result"
    }
   ],
   "source": [
    "dataframe.loc[[\"ventas1\", \"ventas2\"]] #Seleccionar filas"
   ]
  },
  {
   "cell_type": "code",
   "execution_count": 44,
   "id": "c133331e",
   "metadata": {},
   "outputs": [
    {
     "data": {
      "text/html": [
       "<div>\n",
       "<style scoped>\n",
       "    .dataframe tbody tr th:only-of-type {\n",
       "        vertical-align: middle;\n",
       "    }\n",
       "\n",
       "    .dataframe tbody tr th {\n",
       "        vertical-align: top;\n",
       "    }\n",
       "\n",
       "    .dataframe thead th {\n",
       "        text-align: right;\n",
       "    }\n",
       "</style>\n",
       "<table border=\"1\" class=\"dataframe\">\n",
       "  <thead>\n",
       "    <tr style=\"text-align: right;\">\n",
       "      <th></th>\n",
       "      <th>zonaA</th>\n",
       "      <th>zonaC</th>\n",
       "    </tr>\n",
       "  </thead>\n",
       "  <tbody>\n",
       "    <tr>\n",
       "      <th>ventas1</th>\n",
       "      <td>130</td>\n",
       "      <td>378</td>\n",
       "    </tr>\n",
       "    <tr>\n",
       "      <th>ventas2</th>\n",
       "      <td>345</td>\n",
       "      <td>259</td>\n",
       "    </tr>\n",
       "  </tbody>\n",
       "</table>\n",
       "</div>"
      ],
      "text/plain": [
       "         zonaA  zonaC\n",
       "ventas1    130    378\n",
       "ventas2    345    259"
      ]
     },
     "execution_count": 44,
     "metadata": {},
     "output_type": "execute_result"
    }
   ],
   "source": [
    "dataframe[[\"zonaA\", \"zonaC\"]] #Seleccionar columnas"
   ]
  },
  {
   "cell_type": "code",
   "execution_count": 16,
   "id": "37fdd131",
   "metadata": {},
   "outputs": [
    {
     "data": {
      "text/plain": [
       "378"
      ]
     },
     "execution_count": 16,
     "metadata": {},
     "output_type": "execute_result"
    }
   ],
   "source": [
    "dataframe.loc[\"ventas1\"][\"zonaC\"] #Seleccionar un solo elemento"
   ]
  },
  {
   "cell_type": "code",
   "execution_count": 43,
   "id": "ae9ad5d3",
   "metadata": {},
   "outputs": [
    {
     "data": {
      "text/html": [
       "<div>\n",
       "<style scoped>\n",
       "    .dataframe tbody tr th:only-of-type {\n",
       "        vertical-align: middle;\n",
       "    }\n",
       "\n",
       "    .dataframe tbody tr th {\n",
       "        vertical-align: top;\n",
       "    }\n",
       "\n",
       "    .dataframe thead th {\n",
       "        text-align: right;\n",
       "    }\n",
       "</style>\n",
       "<table border=\"1\" class=\"dataframe\">\n",
       "  <thead>\n",
       "    <tr style=\"text-align: right;\">\n",
       "      <th></th>\n",
       "      <th>zonaA</th>\n",
       "      <th>zonaB</th>\n",
       "      <th>zonaC</th>\n",
       "      <th>Zonas</th>\n",
       "    </tr>\n",
       "  </thead>\n",
       "  <tbody>\n",
       "    <tr>\n",
       "      <th>ventas1</th>\n",
       "      <td>130</td>\n",
       "      <td>890</td>\n",
       "      <td>378</td>\n",
       "      <td>1398</td>\n",
       "    </tr>\n",
       "    <tr>\n",
       "      <th>ventas2</th>\n",
       "      <td>345</td>\n",
       "      <td>541</td>\n",
       "      <td>259</td>\n",
       "      <td>1145</td>\n",
       "    </tr>\n",
       "  </tbody>\n",
       "</table>\n",
       "</div>"
      ],
      "text/plain": [
       "         zonaA  zonaB  zonaC  Zonas\n",
       "ventas1    130    890    378   1398\n",
       "ventas2    345    541    259   1145"
      ]
     },
     "execution_count": 43,
     "metadata": {},
     "output_type": "execute_result"
    }
   ],
   "source": [
    "dataframe[\"Zonas\"] = dataframe[\"zonaA\"] + dataframe[\"zonaB\"] +  dataframe[\"zonaC\"] #Añadir nueva columna\n",
    "dataframe"
   ]
  },
  {
   "cell_type": "code",
   "execution_count": 38,
   "id": "ee9d6a6e",
   "metadata": {},
   "outputs": [
    {
     "data": {
      "text/html": [
       "<div>\n",
       "<style scoped>\n",
       "    .dataframe tbody tr th:only-of-type {\n",
       "        vertical-align: middle;\n",
       "    }\n",
       "\n",
       "    .dataframe tbody tr th {\n",
       "        vertical-align: top;\n",
       "    }\n",
       "\n",
       "    .dataframe thead th {\n",
       "        text-align: right;\n",
       "    }\n",
       "</style>\n",
       "<table border=\"1\" class=\"dataframe\">\n",
       "  <thead>\n",
       "    <tr style=\"text-align: right;\">\n",
       "      <th></th>\n",
       "      <th>zonaA</th>\n",
       "      <th>zonaB</th>\n",
       "      <th>zonaC</th>\n",
       "    </tr>\n",
       "  </thead>\n",
       "  <tbody>\n",
       "    <tr>\n",
       "      <th>ventas1</th>\n",
       "      <td>130</td>\n",
       "      <td>890</td>\n",
       "      <td>378</td>\n",
       "    </tr>\n",
       "    <tr>\n",
       "      <th>ventas2</th>\n",
       "      <td>345</td>\n",
       "      <td>541</td>\n",
       "      <td>259</td>\n",
       "    </tr>\n",
       "    <tr>\n",
       "      <th>ventas3</th>\n",
       "      <td>890</td>\n",
       "      <td>765</td>\n",
       "      <td>345</td>\n",
       "    </tr>\n",
       "  </tbody>\n",
       "</table>\n",
       "</div>"
      ],
      "text/plain": [
       "         zonaA  zonaB  zonaC\n",
       "ventas1    130    890    378\n",
       "ventas2    345    541    259\n",
       "ventas3    890    765    345"
      ]
     },
     "execution_count": 38,
     "metadata": {},
     "output_type": "execute_result"
    }
   ],
   "source": [
    "dataframe.drop(\"Zonas\", axis = 1) #Borrar una columna. axis significa que es una columna"
   ]
  },
  {
   "cell_type": "code",
   "execution_count": 39,
   "id": "1b539c56",
   "metadata": {},
   "outputs": [
    {
     "data": {
      "text/html": [
       "<div>\n",
       "<style scoped>\n",
       "    .dataframe tbody tr th:only-of-type {\n",
       "        vertical-align: middle;\n",
       "    }\n",
       "\n",
       "    .dataframe tbody tr th {\n",
       "        vertical-align: top;\n",
       "    }\n",
       "\n",
       "    .dataframe thead th {\n",
       "        text-align: right;\n",
       "    }\n",
       "</style>\n",
       "<table border=\"1\" class=\"dataframe\">\n",
       "  <thead>\n",
       "    <tr style=\"text-align: right;\">\n",
       "      <th></th>\n",
       "      <th>zonaA</th>\n",
       "      <th>zonaB</th>\n",
       "      <th>zonaC</th>\n",
       "    </tr>\n",
       "  </thead>\n",
       "  <tbody>\n",
       "    <tr>\n",
       "      <th>ventas1</th>\n",
       "      <td>130</td>\n",
       "      <td>890</td>\n",
       "      <td>378</td>\n",
       "    </tr>\n",
       "    <tr>\n",
       "      <th>ventas2</th>\n",
       "      <td>345</td>\n",
       "      <td>541</td>\n",
       "      <td>259</td>\n",
       "    </tr>\n",
       "    <tr>\n",
       "      <th>ventas3</th>\n",
       "      <td>890</td>\n",
       "      <td>765</td>\n",
       "      <td>345</td>\n",
       "    </tr>\n",
       "  </tbody>\n",
       "</table>\n",
       "</div>"
      ],
      "text/plain": [
       "         zonaA  zonaB  zonaC\n",
       "ventas1    130    890    378\n",
       "ventas2    345    541    259\n",
       "ventas3    890    765    345"
      ]
     },
     "execution_count": 39,
     "metadata": {},
     "output_type": "execute_result"
    }
   ],
   "source": [
    "dataframe.drop(\"Zonas\", axis = 1, inplace = True) #Borrar definitivamente la columna\n",
    "dataframe"
   ]
  },
  {
   "cell_type": "code",
   "execution_count": 40,
   "id": "14937794",
   "metadata": {},
   "outputs": [
    {
     "data": {
      "text/html": [
       "<div>\n",
       "<style scoped>\n",
       "    .dataframe tbody tr th:only-of-type {\n",
       "        vertical-align: middle;\n",
       "    }\n",
       "\n",
       "    .dataframe tbody tr th {\n",
       "        vertical-align: top;\n",
       "    }\n",
       "\n",
       "    .dataframe thead th {\n",
       "        text-align: right;\n",
       "    }\n",
       "</style>\n",
       "<table border=\"1\" class=\"dataframe\">\n",
       "  <thead>\n",
       "    <tr style=\"text-align: right;\">\n",
       "      <th></th>\n",
       "      <th>zonaA</th>\n",
       "      <th>zonaB</th>\n",
       "      <th>zonaC</th>\n",
       "    </tr>\n",
       "  </thead>\n",
       "  <tbody>\n",
       "    <tr>\n",
       "      <th>ventas1</th>\n",
       "      <td>130</td>\n",
       "      <td>890</td>\n",
       "      <td>378</td>\n",
       "    </tr>\n",
       "    <tr>\n",
       "      <th>ventas2</th>\n",
       "      <td>345</td>\n",
       "      <td>541</td>\n",
       "      <td>259</td>\n",
       "    </tr>\n",
       "  </tbody>\n",
       "</table>\n",
       "</div>"
      ],
      "text/plain": [
       "         zonaA  zonaB  zonaC\n",
       "ventas1    130    890    378\n",
       "ventas2    345    541    259"
      ]
     },
     "execution_count": 40,
     "metadata": {},
     "output_type": "execute_result"
    }
   ],
   "source": [
    "dataframe.drop(\"ventas3\") #Eliminar fila"
   ]
  },
  {
   "cell_type": "code",
   "execution_count": 48,
   "id": "ef79c91c",
   "metadata": {},
   "outputs": [
    {
     "data": {
      "text/html": [
       "<div>\n",
       "<style scoped>\n",
       "    .dataframe tbody tr th:only-of-type {\n",
       "        vertical-align: middle;\n",
       "    }\n",
       "\n",
       "    .dataframe tbody tr th {\n",
       "        vertical-align: top;\n",
       "    }\n",
       "\n",
       "    .dataframe thead th {\n",
       "        text-align: right;\n",
       "    }\n",
       "</style>\n",
       "<table border=\"1\" class=\"dataframe\">\n",
       "  <thead>\n",
       "    <tr style=\"text-align: right;\">\n",
       "      <th></th>\n",
       "      <th>zonaA</th>\n",
       "      <th>zonaB</th>\n",
       "      <th>zonaC</th>\n",
       "    </tr>\n",
       "  </thead>\n",
       "  <tbody>\n",
       "    <tr>\n",
       "      <th>ventas1</th>\n",
       "      <td>130</td>\n",
       "      <td>890</td>\n",
       "      <td>378</td>\n",
       "    </tr>\n",
       "    <tr>\n",
       "      <th>ventas2</th>\n",
       "      <td>345</td>\n",
       "      <td>541</td>\n",
       "      <td>259</td>\n",
       "    </tr>\n",
       "  </tbody>\n",
       "</table>\n",
       "</div>"
      ],
      "text/plain": [
       "         zonaA  zonaB  zonaC\n",
       "ventas1    130    890    378\n",
       "ventas2    345    541    259"
      ]
     },
     "execution_count": 48,
     "metadata": {},
     "output_type": "execute_result"
    }
   ],
   "source": [
    "dataframe.drop(\"ventas3\", inplace = True) #ELiminar fila definitivamente\n",
    "dataframe"
   ]
  },
  {
   "cell_type": "code",
   "execution_count": 51,
   "id": "dc522bce",
   "metadata": {},
   "outputs": [
    {
     "data": {
      "text/plain": [
       "(2, 3)"
      ]
     },
     "execution_count": 51,
     "metadata": {},
     "output_type": "execute_result"
    }
   ],
   "source": [
    "dataframe.shape #Ver el tamaño del dataframe"
   ]
  },
  {
   "cell_type": "code",
   "execution_count": null,
   "id": "d2c42653",
   "metadata": {},
   "outputs": [],
   "source": []
  }
 ],
 "metadata": {
  "kernelspec": {
   "display_name": "Python 3 (ipykernel)",
   "language": "python",
   "name": "python3"
  },
  "language_info": {
   "codemirror_mode": {
    "name": "ipython",
    "version": 3
   },
   "file_extension": ".py",
   "mimetype": "text/x-python",
   "name": "python",
   "nbconvert_exporter": "python",
   "pygments_lexer": "ipython3",
   "version": "3.9.12"
  }
 },
 "nbformat": 4,
 "nbformat_minor": 5
}
