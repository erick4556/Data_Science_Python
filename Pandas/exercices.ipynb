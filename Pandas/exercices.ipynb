{
 "cells": [
  {
   "cell_type": "code",
   "execution_count": 27,
   "id": "ec76b19e",
   "metadata": {},
   "outputs": [],
   "source": [
    "#Exercises\n",
    "import pandas as pd\n",
    "import numpy as np"
   ]
  },
  {
   "cell_type": "code",
   "execution_count": 44,
   "id": "951d7100",
   "metadata": {},
   "outputs": [],
   "source": [
    "#Exercise 1\n",
    "subjects = [\"math\", \"physic\", \"history\"]\n",
    "grades = [9,9,8]\n",
    "serie = pd.Series(data = grades, index = subjects)"
   ]
  },
  {
   "cell_type": "code",
   "execution_count": 12,
   "id": "88d47d64",
   "metadata": {},
   "outputs": [
    {
     "data": {
      "text/plain": [
       "math       9\n",
       "physic     9\n",
       "history    8\n",
       "dtype: int64"
      ]
     },
     "execution_count": 12,
     "metadata": {},
     "output_type": "execute_result"
    }
   ],
   "source": [
    "serie"
   ]
  },
  {
   "cell_type": "code",
   "execution_count": 13,
   "id": "e3297250",
   "metadata": {},
   "outputs": [],
   "source": [
    "physic_grade = serie[\"physic\"]"
   ]
  },
  {
   "cell_type": "code",
   "execution_count": 24,
   "id": "e5483c37",
   "metadata": {},
   "outputs": [
    {
     "name": "stdout",
     "output_type": "stream",
     "text": [
      "La nota de física es un 9\n"
     ]
    }
   ],
   "source": [
    "#print(\"La nota de física es un\",physic_grade)\n",
    "print(\"La nota de física es un {}\".format(physic_grade))"
   ]
  },
  {
   "cell_type": "code",
   "execution_count": 40,
   "id": "443a96fb",
   "metadata": {},
   "outputs": [],
   "source": [
    "#Exercise 2\n",
    "jan_sales = np.random.randint(100,500, 3)\n",
    "jan_sales"
   ]
  },
  {
   "cell_type": "code",
   "execution_count": 41,
   "id": "2a2f67d0",
   "metadata": {},
   "outputs": [
    {
     "data": {
      "text/plain": [
       "array([378, 244, 341])"
      ]
     },
     "execution_count": 41,
     "metadata": {},
     "output_type": "execute_result"
    }
   ],
   "source": [
    "feb_sales = np.random.randint(100,500, 3)\n",
    "feb_sales"
   ]
  },
  {
   "cell_type": "code",
   "execution_count": 46,
   "id": "640638ec",
   "metadata": {},
   "outputs": [
    {
     "data": {
      "text/plain": [
       "array([232, 100, 319])"
      ]
     },
     "execution_count": 46,
     "metadata": {},
     "output_type": "execute_result"
    }
   ],
   "source": [
    "march_sales = np.random.randint(100,500,3)\n",
    "march_sales"
   ]
  },
  {
   "cell_type": "code",
   "execution_count": 51,
   "id": "f3db4bbd",
   "metadata": {},
   "outputs": [],
   "source": [
    "rows = [\"jan_sales\", \"feb_sales\", \"march_sales\"]\n",
    "columns = [\"office1\", \"office2\", \"office3\"]\n",
    "sales = [jan_sales, feb_sales, march_sales]"
   ]
  },
  {
   "cell_type": "code",
   "execution_count": 52,
   "id": "276106ba",
   "metadata": {},
   "outputs": [],
   "source": [
    "dataframe = pd.DataFrame(sales, rows, columns)"
   ]
  },
  {
   "cell_type": "code",
   "execution_count": 53,
   "id": "4682ff69",
   "metadata": {},
   "outputs": [
    {
     "data": {
      "text/html": [
       "<div>\n",
       "<style scoped>\n",
       "    .dataframe tbody tr th:only-of-type {\n",
       "        vertical-align: middle;\n",
       "    }\n",
       "\n",
       "    .dataframe tbody tr th {\n",
       "        vertical-align: top;\n",
       "    }\n",
       "\n",
       "    .dataframe thead th {\n",
       "        text-align: right;\n",
       "    }\n",
       "</style>\n",
       "<table border=\"1\" class=\"dataframe\">\n",
       "  <thead>\n",
       "    <tr style=\"text-align: right;\">\n",
       "      <th></th>\n",
       "      <th>office1</th>\n",
       "      <th>office2</th>\n",
       "      <th>office3</th>\n",
       "    </tr>\n",
       "  </thead>\n",
       "  <tbody>\n",
       "    <tr>\n",
       "      <th>jan_sales</th>\n",
       "      <td>222</td>\n",
       "      <td>190</td>\n",
       "      <td>243</td>\n",
       "    </tr>\n",
       "    <tr>\n",
       "      <th>feb_sales</th>\n",
       "      <td>378</td>\n",
       "      <td>244</td>\n",
       "      <td>341</td>\n",
       "    </tr>\n",
       "    <tr>\n",
       "      <th>march_sales</th>\n",
       "      <td>232</td>\n",
       "      <td>100</td>\n",
       "      <td>319</td>\n",
       "    </tr>\n",
       "  </tbody>\n",
       "</table>\n",
       "</div>"
      ],
      "text/plain": [
       "             office1  office2  office3\n",
       "jan_sales        222      190      243\n",
       "feb_sales        378      244      341\n",
       "march_sales      232      100      319"
      ]
     },
     "execution_count": 53,
     "metadata": {},
     "output_type": "execute_result"
    }
   ],
   "source": [
    "dataframe"
   ]
  },
  {
   "cell_type": "code",
   "execution_count": 56,
   "id": "63397688",
   "metadata": {},
   "outputs": [],
   "source": [
    "office1_jan_sales = dataframe['office1']['jan_sales']"
   ]
  },
  {
   "cell_type": "code",
   "execution_count": 57,
   "id": "e8d38c9c",
   "metadata": {},
   "outputs": [
    {
     "data": {
      "text/plain": [
       "222"
      ]
     },
     "execution_count": 57,
     "metadata": {},
     "output_type": "execute_result"
    }
   ],
   "source": [
    "office1_jan_sales"
   ]
  },
  {
   "cell_type": "code",
   "execution_count": 62,
   "id": "eb2c10cc",
   "metadata": {},
   "outputs": [
    {
     "name": "stdout",
     "output_type": "stream",
     "text": [
      "Las ventas de enero para la oficina 1 son de $222 dólares\n"
     ]
    }
   ],
   "source": [
    "print(\"Las ventas de enero para la oficina 1 son de ${}\".format(office1_jan_sales), \"dólares\")"
   ]
  },
  {
   "cell_type": "code",
   "execution_count": null,
   "id": "6f6c8abb",
   "metadata": {},
   "outputs": [],
   "source": []
  }
 ],
 "metadata": {
  "kernelspec": {
   "display_name": "Python 3 (ipykernel)",
   "language": "python",
   "name": "python3"
  },
  "language_info": {
   "codemirror_mode": {
    "name": "ipython",
    "version": 3
   },
   "file_extension": ".py",
   "mimetype": "text/x-python",
   "name": "python",
   "nbconvert_exporter": "python",
   "pygments_lexer": "ipython3",
   "version": "3.9.12"
  }
 },
 "nbformat": 4,
 "nbformat_minor": 5
}
