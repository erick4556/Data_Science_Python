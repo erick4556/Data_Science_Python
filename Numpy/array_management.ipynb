{
 "cells": [
  {
   "cell_type": "code",
   "execution_count": 2,
   "id": "de74cae4",
   "metadata": {},
   "outputs": [],
   "source": [
    "#Números aleatorios\n",
    "import numpy as np"
   ]
  },
  {
   "cell_type": "code",
   "execution_count": 4,
   "id": "c4966f6f",
   "metadata": {},
   "outputs": [
    {
     "data": {
      "text/plain": [
       "array([0.81265075, 0.87567045, 0.20093499, 0.52216943, 0.42681654])"
      ]
     },
     "execution_count": 4,
     "metadata": {},
     "output_type": "execute_result"
    }
   ],
   "source": [
    "np.random.rand(5) #Array de números random"
   ]
  },
  {
   "cell_type": "code",
   "execution_count": 83,
   "id": "e6537588",
   "metadata": {},
   "outputs": [
    {
     "data": {
      "text/plain": [
       "array([[0.94900556, 0.52973098, 0.11612222, 0.1604411 ],\n",
       "       [0.75016044, 0.4202769 , 0.13089576, 0.52680202],\n",
       "       [0.22838324, 0.22381858, 0.86485029, 0.1412459 ],\n",
       "       [0.3614937 , 0.54039795, 0.74875481, 0.40265824],\n",
       "       [0.15133367, 0.03167348, 0.77338114, 0.67666105]])"
      ]
     },
     "execution_count": 83,
     "metadata": {},
     "output_type": "execute_result"
    }
   ],
   "source": [
    "np.random.rand(5,4) #Array de 2 dimensiones, 5 filas y 4 columnas"
   ]
  },
  {
   "cell_type": "code",
   "execution_count": 7,
   "id": "5dfe4710",
   "metadata": {},
   "outputs": [
    {
     "data": {
      "text/plain": [
       "array([-0.56117833, -0.24845789,  0.43285035, -0.35133144])"
      ]
     },
     "execution_count": 7,
     "metadata": {},
     "output_type": "execute_result"
    }
   ],
   "source": [
    "np.random.randn(4) #Array de números random con distribución normal positivos y negativos"
   ]
  },
  {
   "cell_type": "code",
   "execution_count": 8,
   "id": "658e5c6e",
   "metadata": {},
   "outputs": [
    {
     "data": {
      "text/plain": [
       "array([[ 1.50451508,  0.43641699, -0.91755718,  0.55015504, -0.16154936],\n",
       "       [-0.32434867, -1.25072013,  0.53105505, -0.72997321, -0.61138763],\n",
       "       [ 0.02067149,  0.8562108 , -0.21991999,  0.41548465,  1.06500299],\n",
       "       [ 2.51903625, -0.6715078 ,  0.13547408,  1.19748203, -2.13590109]])"
      ]
     },
     "execution_count": 8,
     "metadata": {},
     "output_type": "execute_result"
    }
   ],
   "source": [
    "np.random.randn(4,5)"
   ]
  },
  {
   "cell_type": "code",
   "execution_count": 16,
   "id": "6cd4cc50",
   "metadata": {},
   "outputs": [
    {
     "data": {
      "text/plain": [
       "5"
      ]
     },
     "execution_count": 16,
     "metadata": {},
     "output_type": "execute_result"
    }
   ],
   "source": [
    "np.random.randint(1,19) #Array de números enteros random. Genera un número random entre 1 y 19"
   ]
  },
  {
   "cell_type": "code",
   "execution_count": 20,
   "id": "d3bd63b6",
   "metadata": {},
   "outputs": [
    {
     "data": {
      "text/plain": [
       "array([17,  6, 13, 10, 15])"
      ]
     },
     "execution_count": 20,
     "metadata": {},
     "output_type": "execute_result"
    }
   ],
   "source": [
    "np.random.randint(1,20,5) #El tercer parámetro es para la cantidad de números a devolver"
   ]
  },
  {
   "cell_type": "code",
   "execution_count": 22,
   "id": "5c4ab206",
   "metadata": {},
   "outputs": [],
   "source": [
    "#Cambiar tamaño de los arrays"
   ]
  },
  {
   "cell_type": "code",
   "execution_count": 32,
   "id": "31df0e72",
   "metadata": {},
   "outputs": [],
   "source": [
    "array = np.random.randint(1,75,21)"
   ]
  },
  {
   "cell_type": "code",
   "execution_count": 88,
   "id": "7d5082e8",
   "metadata": {},
   "outputs": [
    {
     "data": {
      "text/plain": [
       "array([11, 53, 67, 54, 34,  7, 37, 29,  1, 19, 50, 69, 39, 13, 15, 14, 72,\n",
       "       37, 38, 19, 44])"
      ]
     },
     "execution_count": 88,
     "metadata": {},
     "output_type": "execute_result"
    }
   ],
   "source": [
    "array"
   ]
  },
  {
   "cell_type": "code",
   "execution_count": 34,
   "id": "00ceb772",
   "metadata": {},
   "outputs": [],
   "source": [
    "matriz = array.reshape(7,3) #Decirle el número de filas y columnas que queremos, de acuerdo a los datos que devuelve"
   ]
  },
  {
   "cell_type": "code",
   "execution_count": 35,
   "id": "834c9fcf",
   "metadata": {},
   "outputs": [
    {
     "data": {
      "text/plain": [
       "array([[11, 53, 67],\n",
       "       [54, 34,  7],\n",
       "       [37, 29,  1],\n",
       "       [19, 50, 69],\n",
       "       [39, 13, 15],\n",
       "       [14, 72, 37],\n",
       "       [38, 19, 44]])"
      ]
     },
     "execution_count": 35,
     "metadata": {},
     "output_type": "execute_result"
    }
   ],
   "source": [
    "matriz"
   ]
  },
  {
   "cell_type": "code",
   "execution_count": 36,
   "id": "69d33cb8",
   "metadata": {},
   "outputs": [],
   "source": [
    "#Valores máximos y minimoss"
   ]
  },
  {
   "cell_type": "code",
   "execution_count": 74,
   "id": "20bfb854",
   "metadata": {},
   "outputs": [
    {
     "data": {
      "text/plain": [
       "array([75, 59, 78, 24, 37, 17,  8,  3, 75, 21, 43, 75, 48, 66, 17, 74, 39,\n",
       "        5, 56, 55, 18, 33, 76, 93, 22,  9, 40, 28, 69, 16, 94, 87, 57, 28,\n",
       "        3, 80, 46, 86, 86, 46, 98, 21, 49, 88, 57, 34, 60, 67,  1, 26])"
      ]
     },
     "execution_count": 74,
     "metadata": {},
     "output_type": "execute_result"
    }
   ],
   "source": [
    "array_ = np.random.randint(1,100,50)\n",
    "array_"
   ]
  },
  {
   "cell_type": "code",
   "execution_count": 75,
   "id": "5a011b00",
   "metadata": {},
   "outputs": [
    {
     "data": {
      "text/plain": [
       "98"
      ]
     },
     "execution_count": 75,
     "metadata": {},
     "output_type": "execute_result"
    }
   ],
   "source": [
    "max_value = array_.max() #Sacar el valor máximo\n",
    "max_value"
   ]
  },
  {
   "cell_type": "code",
   "execution_count": 76,
   "id": "25af82d6",
   "metadata": {},
   "outputs": [
    {
     "data": {
      "text/plain": [
       "40"
      ]
     },
     "execution_count": 76,
     "metadata": {},
     "output_type": "execute_result"
    }
   ],
   "source": [
    "max_value_position = array_.argmax() #Devolver la posición del valor máximo\n",
    "max_value_position"
   ]
  },
  {
   "cell_type": "code",
   "execution_count": 77,
   "id": "2c264d49",
   "metadata": {},
   "outputs": [
    {
     "data": {
      "text/plain": [
       "1"
      ]
     },
     "execution_count": 77,
     "metadata": {},
     "output_type": "execute_result"
    }
   ],
   "source": [
    "min_value = array_.min() #Sacar el valor mínimo\n",
    "min_value"
   ]
  },
  {
   "cell_type": "code",
   "execution_count": 78,
   "id": "fa8d31e5",
   "metadata": {},
   "outputs": [
    {
     "data": {
      "text/plain": [
       "48"
      ]
     },
     "execution_count": 78,
     "metadata": {},
     "output_type": "execute_result"
    }
   ],
   "source": [
    "min_value_position = array_.argmin() #Devolver la posición del valor minímo\n",
    "min_value_position"
   ]
  },
  {
   "cell_type": "code",
   "execution_count": null,
   "id": "d06a18c6",
   "metadata": {},
   "outputs": [],
   "source": []
  }
 ],
 "metadata": {
  "kernelspec": {
   "display_name": "Python 3 (ipykernel)",
   "language": "python",
   "name": "python3"
  },
  "language_info": {
   "codemirror_mode": {
    "name": "ipython",
    "version": 3
   },
   "file_extension": ".py",
   "mimetype": "text/x-python",
   "name": "python",
   "nbconvert_exporter": "python",
   "pygments_lexer": "ipython3",
   "version": "3.9.12"
  }
 },
 "nbformat": 4,
 "nbformat_minor": 5
}
