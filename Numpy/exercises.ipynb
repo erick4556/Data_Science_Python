{
 "cells": [
  {
   "cell_type": "code",
   "execution_count": 72,
   "id": "533cc2bb",
   "metadata": {},
   "outputs": [],
   "source": [
    "#Exercises\n",
    "import numpy as np"
   ]
  },
  {
   "cell_type": "code",
   "execution_count": 73,
   "id": "bd1bf7ff",
   "metadata": {},
   "outputs": [
    {
     "data": {
      "text/plain": [
       "array([10, 11, 12, 13, 14, 15, 16, 17, 18, 19, 20, 21, 22, 23, 24, 25, 26,\n",
       "       27, 28, 29, 30, 31, 32, 33, 34, 35, 36, 37, 38, 39])"
      ]
     },
     "execution_count": 73,
     "metadata": {},
     "output_type": "execute_result"
    }
   ],
   "source": [
    "#Exercise 1\n",
    "array = numpy.arange(10,40)\n",
    "array"
   ]
  },
  {
   "cell_type": "code",
   "execution_count": 74,
   "id": "0475b2d2",
   "metadata": {},
   "outputs": [
    {
     "data": {
      "text/plain": [
       "10"
      ]
     },
     "execution_count": 74,
     "metadata": {},
     "output_type": "execute_result"
    }
   ],
   "source": [
    "min_value = array.min()\n",
    "min_value"
   ]
  },
  {
   "cell_type": "code",
   "execution_count": 75,
   "id": "b03eea9f",
   "metadata": {},
   "outputs": [
    {
     "data": {
      "text/plain": [
       "39"
      ]
     },
     "execution_count": 75,
     "metadata": {},
     "output_type": "execute_result"
    }
   ],
   "source": [
    "max_value = array.max()\n",
    "max_value"
   ]
  },
  {
   "cell_type": "code",
   "execution_count": 76,
   "id": "11c12cbf",
   "metadata": {},
   "outputs": [
    {
     "data": {
      "text/plain": [
       "array([[10, 11, 12, 13, 14, 15, 16, 17, 18, 19],\n",
       "       [20, 21, 22, 23, 24, 25, 26, 27, 28, 29],\n",
       "       [30, 31, 32, 33, 34, 35, 36, 37, 38, 39]])"
      ]
     },
     "execution_count": 76,
     "metadata": {},
     "output_type": "execute_result"
    }
   ],
   "source": [
    "matriz = array.reshape(3, 10)\n",
    "matriz"
   ]
  },
  {
   "cell_type": "code",
   "execution_count": 77,
   "id": "24cdbd93",
   "metadata": {},
   "outputs": [
    {
     "data": {
      "text/plain": [
       "19"
      ]
     },
     "execution_count": 77,
     "metadata": {},
     "output_type": "execute_result"
    }
   ],
   "source": [
    "array_selection = matriz[0,9] #Seleccionar el valor superior derecho de la matriz. Otra forma es matriz[0][9]\n",
    "array_selection"
   ]
  },
  {
   "cell_type": "code",
   "execution_count": 78,
   "id": "47831a0d",
   "metadata": {},
   "outputs": [
    {
     "data": {
      "text/plain": [
       "array([85, 25,  9, 91, 42, 77, 90, 14, 76])"
      ]
     },
     "execution_count": 78,
     "metadata": {},
     "output_type": "execute_result"
    }
   ],
   "source": [
    "#Exercise 2\n",
    "array2 = np.random.randint(0,100,9)\n",
    "array2"
   ]
  },
  {
   "cell_type": "code",
   "execution_count": 79,
   "id": "c636e7fa",
   "metadata": {},
   "outputs": [
    {
     "data": {
      "text/plain": [
       "array([[85, 25,  9],\n",
       "       [91, 42, 77],\n",
       "       [90, 14, 76]])"
      ]
     },
     "execution_count": 79,
     "metadata": {},
     "output_type": "execute_result"
    }
   ],
   "source": [
    "matriz2 = array2.reshape(3,3)\n",
    "matriz2"
   ]
  },
  {
   "cell_type": "code",
   "execution_count": 84,
   "id": "d9ed673f",
   "metadata": {},
   "outputs": [
    {
     "data": {
      "text/plain": [
       "76"
      ]
     },
     "execution_count": 84,
     "metadata": {},
     "output_type": "execute_result"
    }
   ],
   "source": [
    "matriz2[2][2] #Seleccionar el valor inferior derecho de la matriz"
   ]
  },
  {
   "cell_type": "code",
   "execution_count": null,
   "id": "9c20b158",
   "metadata": {},
   "outputs": [],
   "source": []
  }
 ],
 "metadata": {
  "kernelspec": {
   "display_name": "Python 3 (ipykernel)",
   "language": "python",
   "name": "python3"
  },
  "language_info": {
   "codemirror_mode": {
    "name": "ipython",
    "version": 3
   },
   "file_extension": ".py",
   "mimetype": "text/x-python",
   "name": "python",
   "nbconvert_exporter": "python",
   "pygments_lexer": "ipython3",
   "version": "3.9.12"
  }
 },
 "nbformat": 4,
 "nbformat_minor": 5
}
